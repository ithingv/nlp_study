{
  "nbformat": 4,
  "nbformat_minor": 0,
  "metadata": {
    "colab": {
      "name": "LanguageModel_script.ipynb",
      "private_outputs": true,
      "provenance": [],
      "collapsed_sections": [],
      "authorship_tag": "ABX9TyPYJ8ADNJMdfSmRD/8SOsw1",
      "include_colab_link": true
    },
    "kernelspec": {
      "name": "python3",
      "display_name": "Python 3"
    },
    "language_info": {
      "name": "python"
    }
  },
  "cells": [
    {
      "cell_type": "markdown",
      "metadata": {
        "id": "view-in-github",
        "colab_type": "text"
      },
      "source": [
        "<a href=\"https://colab.research.google.com/github/ithingv/nlp_study/blob/main/LanguageModel_script.ipynb\" target=\"_parent\"><img src=\"https://colab.research.google.com/assets/colab-badge.svg\" alt=\"Open In Colab\"/></a>"
      ]
    },
    {
      "cell_type": "code",
      "execution_count": null,
      "metadata": {
        "id": "J2LJwdbB1RTO"
      },
      "outputs": [],
      "source": [
        "# Transformersのインストール\n",
        "!git clone https://github.com/huggingface/transformers.git\n",
        "!cd transformers/; pip install -e ."
      ]
    },
    {
      "cell_type": "code",
      "source": [
        "import codecs\n",
        "import re\n",
        "import requests\n",
        "from bs4 import BeautifulSoup\n",
        "\n",
        "# URLとキーワードリスト\n",
        "url = \"https://ja.wikipedia.org/wiki/\"\n",
        "keyword_list = [\n",
        "    \"中島敦\", \"太宰治\", \"国木田独歩\",\n",
        "    \"江戸川乱歩\", \"谷崎潤一郎\", \"宮沢賢治\",\n",
        "    \"与謝野晶子\", \"芥川龍之介\", \"樋口一葉\",\n",
        "    \"中原中也\", \"尾崎紅葉\", \"梶井基次郎\",\n",
        "    \"夢野久作\", \"森鷗外\", \"織田作之助\"   \n",
        "]\n",
        "\n",
        "# Wikipediaの小説家の記事のダウンロード\n",
        "corpus = []\n",
        "for keyword in keyword_list:\n",
        "    response = requests.get(url + keyword)\n",
        "  \n",
        "    soup = BeautifulSoup(response.text, 'lxml')\n",
        "    for p_tag in soup.find_all('p'):\n",
        "        # 空白の削除\n",
        "        text = \"\".join(p_tag.text.strip().split(\" \"))\n",
        "\n",
        "        # 空行は無処理\n",
        "        if len(text) == 0:\n",
        "            continue\n",
        "\n",
        "        # 注釈の削除 (例: [注釈1], [注釈1], [1])\n",
        "        text = re.sub(r\"\\[注釈[0-9]+\\]\", \"\", text)\n",
        "        text = re.sub(r\"\\[注[0-9]+\\]\", \"\", text)\n",
        "        text = re.sub(r\"\\[[0-9]+\\]\", \"\", text)\n",
        "\n",
        "        # 行の追加\n",
        "        corpus.append(text)\n",
        "\n",
        "# ファイルの保存       \n",
        "print(*corpus, sep=\"\\n\", file=codecs.open(\"wiki.txt\", \"w\", \"utf-8\"))"
      ],
      "metadata": {
        "id": "v_Zuya_T1sxP"
      },
      "execution_count": null,
      "outputs": []
    },
    {
      "cell_type": "code",
      "source": [
        "# データセットの分割\n",
        "!head -n100 wiki.txt > eval.txt\n",
        "!tail -n+101 wiki.txt > train.txt\n",
        "!wc -ml *.txt"
      ],
      "metadata": {
        "id": "Yyt15yfL1vMs"
      },
      "execution_count": null,
      "outputs": []
    },
    {
      "cell_type": "code",
      "source": [
        "# 学習\n",
        "# run_language_modeling.py\n",
        "!python transformers/examples/legacy/run_language_modeling.py \\\n",
        "    --output_dir=output \\\n",
        "    --model_type=gpt2 \\\n",
        "    --model_name_or_path=gpt2 \\\n",
        "    --do_train \\\n",
        "    --train_data_file=train.txt \\\n",
        "    --do_eval \\\n",
        "    --eval_data_file=eval.txt \\\n",
        "    --per_device_train_batch_size=2 \\\n",
        "    --per_device_eval_batch_size=2 \\\n",
        "    --num_train_epochs=10 \\\n",
        "    --save_steps=5000 \\\n",
        "    --save_total_limit=3"
      ],
      "metadata": {
        "id": "U5NXxw5x13ta"
      },
      "execution_count": null,
      "outputs": []
    },
    {
      "cell_type": "code",
      "source": [
        "!python transformers/examples/pytorch/text-generation/run_generation.py \\\n",
        "    --model_type=gpt2 \\\n",
        "    --model_name_or_path=output \\\n",
        "    --prompt \"山田太郎。日本の小説家。 \" \\\n",
        "    --seed=${RANDOM} \\\n",
        "    --length 1000"
      ],
      "metadata": {
        "id": "1sWPsjiV156M"
      },
      "execution_count": null,
      "outputs": []
    },
    {
      "cell_type": "code",
      "source": [
        ""
      ],
      "metadata": {
        "id": "P8blbH7c2FkU"
      },
      "execution_count": null,
      "outputs": []
    }
  ]
}