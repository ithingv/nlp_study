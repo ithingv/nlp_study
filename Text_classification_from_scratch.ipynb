{
  "nbformat": 4,
  "nbformat_minor": 0,
  "metadata": {
    "colab": {
      "name": "Text classification from scratch.ipynb",
      "provenance": []
    },
    "kernelspec": {
      "name": "python3",
      "display_name": "Python 3"
    },
    "language_info": {
      "name": "python"
    },
    "accelerator": "GPU"
  },
  "cells": [
    {
      "cell_type": "code",
      "execution_count": 1,
      "metadata": {
        "id": "xymkFML0Jq2d"
      },
      "outputs": [],
      "source": [
        "import tensorflow as tf\n",
        "import numpy as np"
      ]
    },
    {
      "cell_type": "markdown",
      "source": [
        "# Load the data: IMDB movie review sentiment classification"
      ],
      "metadata": {
        "id": "vcHTOu9sLrkq"
      }
    },
    {
      "cell_type": "code",
      "source": [
        "!curl -O https://ai.stanford.edu/~amaas/data/sentiment/aclImdb_v1.tar.gz\n",
        "!tar -xf aclImdb_v1.tar.gz"
      ],
      "metadata": {
        "colab": {
          "base_uri": "https://localhost:8080/"
        },
        "id": "T4GDP1IwLjqw",
        "outputId": "f7b18c0f-c5d7-4cfe-92a4-7fd6d40ed30a"
      },
      "execution_count": 2,
      "outputs": [
        {
          "output_type": "stream",
          "name": "stdout",
          "text": [
            "  % Total    % Received % Xferd  Average Speed   Time    Time     Time  Current\n",
            "                                 Dload  Upload   Total   Spent    Left  Speed\n",
            "100 80.2M  100 80.2M    0     0  23.7M      0  0:00:03  0:00:03 --:--:-- 23.7M\n"
          ]
        }
      ]
    },
    {
      "cell_type": "code",
      "source": [
        "!ls aclImdb"
      ],
      "metadata": {
        "colab": {
          "base_uri": "https://localhost:8080/"
        },
        "id": "rDlqrZY9LqcA",
        "outputId": "29702760-37d2-407d-cd30-73664c3abe81"
      },
      "execution_count": 3,
      "outputs": [
        {
          "output_type": "stream",
          "name": "stdout",
          "text": [
            "imdbEr.txt  imdb.vocab\tREADME\ttest  train\n"
          ]
        }
      ]
    },
    {
      "cell_type": "code",
      "source": [
        "!ls aclImdb/test"
      ],
      "metadata": {
        "colab": {
          "base_uri": "https://localhost:8080/"
        },
        "id": "Usqk084zT_Ig",
        "outputId": "cdb9d85e-5f5f-40cb-a6e0-39d3418cadc8"
      },
      "execution_count": 4,
      "outputs": [
        {
          "output_type": "stream",
          "name": "stdout",
          "text": [
            "labeledBow.feat  neg  pos  urls_neg.txt  urls_pos.txt\n"
          ]
        }
      ]
    },
    {
      "cell_type": "code",
      "source": [
        "!ls aclImdb/train"
      ],
      "metadata": {
        "colab": {
          "base_uri": "https://localhost:8080/"
        },
        "id": "obNhtFV5UMeJ",
        "outputId": "cd1bb0d9-bd10-4be6-979a-92a042e4ff03"
      },
      "execution_count": 5,
      "outputs": [
        {
          "output_type": "stream",
          "name": "stdout",
          "text": [
            "labeledBow.feat  pos\tunsupBow.feat  urls_pos.txt\n",
            "neg\t\t unsup\turls_neg.txt   urls_unsup.txt\n"
          ]
        }
      ]
    },
    {
      "cell_type": "code",
      "source": [
        "!cat aclImdb/train/pos/6248_7.txt"
      ],
      "metadata": {
        "colab": {
          "base_uri": "https://localhost:8080/"
        },
        "id": "xPYqMuJ_UMgk",
        "outputId": "af90fc30-af70-4c3f-e8e7-f74593eba0ca"
      },
      "execution_count": 6,
      "outputs": [
        {
          "output_type": "stream",
          "name": "stdout",
          "text": [
            "Being an Austrian myself this has been a straight knock in my face. Fortunately I don't live nowhere near the place where this movie takes place but unfortunately it portrays everything that the rest of Austria hates about Viennese people (or people close to that region). And it is very easy to read that this is exactly the directors intention: to let your head sink into your hands and say \"Oh my god, how can THAT be possible!\". No, not with me, the (in my opinion) totally exaggerated uncensored swinger club scene is not necessary, I watch porn, sure, but in this context I was rather disgusted than put in the right context.<br /><br />This movie tells a story about how misled people who suffer from lack of education or bad company try to survive and live in a world of redundancy and boring horizons. A girl who is treated like a whore by her super-jealous boyfriend (and still keeps coming back), a female teacher who discovers her masochism by putting the life of her super-cruel \"lover\" on the line, an old couple who has an almost mathematical daily cycle (she is the \"official replacement\" of his ex wife), a couple that has just divorced and has the ex husband suffer under the acts of his former wife obviously having a relationship with her masseuse and finally a crazy hitchhiker who asks her drivers the most unusual questions and stretches their nerves by just being super-annoying.<br /><br />After having seen it you feel almost nothing. You're not even shocked, sad, depressed or feel like doing anything... Maybe that's why I gave it 7 points, it made me react in a way I never reacted before. If that's good or bad is up to you!"
          ]
        }
      ]
    },
    {
      "cell_type": "code",
      "source": [
        "!rm -r aclImdb/train/unsup"
      ],
      "metadata": {
        "id": "lQOL8YScUMi6"
      },
      "execution_count": 7,
      "outputs": []
    },
    {
      "cell_type": "code",
      "source": [
        "batch_size = 32\n",
        "raw_train_ds = tf.keras.preprocessing.text_dataset_from_directory(\n",
        "    \"aclImdb/train\",\n",
        "    batch_size=batch_size,\n",
        "    validation_split=0.2,\n",
        "    subset=\"training\",\n",
        "    seed=2020,\n",
        ")\n",
        "raw_val_ds = tf.keras.preprocessing.text_dataset_from_directory(\n",
        "    \"aclImdb/train\",\n",
        "    batch_size=batch_size,\n",
        "    validation_split=0.2,\n",
        "    subset=\"validation\",\n",
        "    seed=2020,\n",
        ")\n",
        "raw_test_ds = tf.keras.preprocessing.text_dataset_from_directory(\n",
        "    \"aclImdb/test\", batch_size=batch_size\n",
        ")"
      ],
      "metadata": {
        "colab": {
          "base_uri": "https://localhost:8080/"
        },
        "id": "G-7Fh13mUMlT",
        "outputId": "c3044fe6-173c-4fd6-afe4-4c1b7e515ab5"
      },
      "execution_count": 8,
      "outputs": [
        {
          "output_type": "stream",
          "name": "stdout",
          "text": [
            "Found 25000 files belonging to 2 classes.\n",
            "Using 20000 files for training.\n",
            "Found 25000 files belonging to 2 classes.\n",
            "Using 5000 files for validation.\n",
            "Found 25000 files belonging to 2 classes.\n"
          ]
        }
      ]
    },
    {
      "cell_type": "code",
      "source": [
        "print(f\"Number of batches in raw_train_ds: {raw_train_ds.cardinality()}\")\n",
        "print(f\"Number of batches in raw_val_ds: {raw_val_ds.cardinality()}\")\n",
        "print(f\"Number of batches in raw_test_ds: {raw_test_ds.cardinality()}\")\n"
      ],
      "metadata": {
        "colab": {
          "base_uri": "https://localhost:8080/"
        },
        "id": "aVbfIKaCUMnz",
        "outputId": "de675fbd-2d77-4db1-9669-35fa2afce8cb"
      },
      "execution_count": 9,
      "outputs": [
        {
          "output_type": "stream",
          "name": "stdout",
          "text": [
            "Number of batches in raw_train_ds: 625\n",
            "Number of batches in raw_val_ds: 157\n",
            "Number of batches in raw_test_ds: 782\n"
          ]
        }
      ]
    },
    {
      "cell_type": "code",
      "source": [
        "for text_batch, label_batch in raw_train_ds.take(1):\n",
        "    for i in range(5):\n",
        "        print(text_batch.numpy()[i])\n",
        "        print(label_batch.numpy()[i])"
      ],
      "metadata": {
        "colab": {
          "base_uri": "https://localhost:8080/"
        },
        "id": "nAxNWC12UMqe",
        "outputId": "279d08a2-23f3-4884-80c9-2c3e17553061"
      },
      "execution_count": 10,
      "outputs": [
        {
          "output_type": "stream",
          "name": "stdout",
          "text": [
            "b\"This is one of the best movies I've ever seen. It has very good acting by Hanks, Newman, and everyone else. Definitely Jude Law's best performance. The cinematography is excellent, the editing is about as good, and includes a great original score that really fits in with the mood of the movie. The production design is also a factor in what makes this movie special. To me, it takes a lot to beat Godfather, but the fantastic cinematography displayed wins this contest. Definitely a Best Picture nominee in my book.\"\n",
            "1\n",
            "b\"New York, I Love You, or rather should-be-titled Manhattan, I Love Looking At Your People In Sometimes Love, is a precise example of the difference between telling a story and telling a situation. Case in point, look at two of the segments in the film, one where Ethan Hawke lights a cigarette for a woman on a street and proceeds to chat her up with obnoxious sexy-talk, and another with Orlando Bloom trying to score a movie with an incredulous demand from his director to read two Dostoyevsky books. While the latter isn't a great story by any stretch, it's at least something that has a beginning, middle and end, as the composer tries to score, gets Dostoyevky dumped in his lap, and in the end gets some help (and maybe something more) from a girl he's been talking to as a liaison between him and the director. The Ethan Hawke scene, however, is like nothing, and feels like it, like a fluke added in or directed by a filmmaker phoning it in (or, for that matter, Hawke with a combo of Before Sunrise and Reality Bites).<br /><br />What's irksome about the film overall is seeing the few stories that do work really well go up against the one or two possible 'stories' and then the rest of the situations that unfold that are made to connect or overlap with one another (i.e. bits involving Bradley Cooper, Drea DeMatteo, Hayden Christensen, Andy Garcia, James Caan, Natalie Portman, etc). It's not even so much that the film- set practically always in *Manhattan* and not the New York of Queens or Staten Island or the Bronx (not even, say, Harlem or Washington Heights)- lacks a good deal of diversity, since there is some. It's the lack of imagination that one found in spades, for better or worse, in Paris J'taime. It's mostly got little to do with New York, except for passing references, and at its worst (the Julie Christie/Shia LaBeouf segment) it's incomprehensible on a level that is appalling.<br /><br />So, basically, wait for TV, and do your best to dip in and out of the film - in, that is, for three scenes: the aforementioned Bloom/Christina Ricci segment which is charming; the Brett Ratner directed segment (yes, X-Men 3 Brett Ratner) with a very funny story of a teen taking a girl in a wheelchair to the prom only to come upon a great big twist; and Eli Wallach and Cloris Leachman as an adorable quite old couple walking along in Brooklyn on their 67th wedding anniversary. Everything else can be missed, even Natalie Portman's directorial debut, and the return of a Hughes brother (only one, Allan) to the screen. A mixed bag is putting it lightly: it's like having to search through a bag of mixed nuts full of crappy peanuts to find the few almonds left.\"\n",
            "0\n",
            "b'Was convincing the world that he didn\\'t exist...<br /><br />This is a line that is probably remembered by a lot of people. It\\'s from The Usual Suspects of course in relation to Kaiser Gold..I mean Sose..<br /><br />I got another one like that: -The dumbest trick a director ever pulled was trying to convince an audience he actually had a storyline-<br /><br />This movie is one of the saddest pieces of film-making I have seen in a long time. It starts out so well, with really fantastic cinematography, great acting and a very smart premise. But alas, the only way this movie is heading is on a course of self-destruction. And it does so, not by a single blow but with nagging little wrist-cuts.<br /><br />Pay no attention to the comments here that marvel at the fact that they found a way to explain this donut. With enough booze in my brain I would probably be capable of explaining the very existence of mankind to a very plausible degree. I have seen and read about a dozen totally different ways people explained the story. And they vary from a story set totally in someones head, playing chess with himself, to a cunning way for a criminal to play out his enemies by means resembling chess gaming.<br /><br />And that\\'s all jolly swell. But at the same time it is a painful giveaway that there is something terribly wrong with this story. And apart from that, it is in any case a blunt rip off of a score of movies and books like \"Fight Club, Kill Bill, Casino, The Usual Suspects, Snatch, Magnolia and Shachnovelle. And we are not dealing with kind borrowing here, it\\'s a blatant robbery.<br /><br />What ultimately goes wrong here in this movie is that the storyline swirls like a drunk bum on speed. If this movie was a roller-coaster ride, you\\'d have crashed into the attraction next to it shorty after take off. There are so many twists in this movie which will never be resolved, that if it was a cocktail, you\\'d be needing a life supply of hurl-buckets to work of the nausea after drinking it. Nothing is ever explained and when you finally get some grasp of the direction you think it\\'s going, you get pulled in yet another one.<br /><br />I guess this story wasn\\'t going anywhere on paper and Ritchy must have thought that is was awesome to make a movie out of it anyway, being the next David Lynch or something.<br /><br />1/10 for totally violating one\\'s own work (Ritchy: seek professional help). What could have easily been a gem instead becomes a contrived art-piece, food for pseudo intellectuals to debate on at sundayafternoon debating-clubs. <br /><br />Spare your soul and stomach, avoid at all cost!'\n",
            "0\n",
            "b'When Sam Peckinpah\\'s superlative THE WILD BUNCH (1969) opened the door to outrageous displays of graphic cinematic ultra-violence, it did so with a talented (if whisky-marinated) hand guiding the camera and had a compelling story with characters who had actual depth, but in no time flat there were scores of imitators that fell far from the benchmark set by Peckinpah\\'s epic, and SOLDIER BLUE definitely falls into that category.<br /><br />SOLDIER BLEW, er, BLUE tells the story of foul-mouthed New Yorker Cresta Lee (Candice Bergen) a blonde proto-hippie chick who\\'s been \"rescued\" from two years of \"captivity\" among the Cheyenne and is now being sent to a fort where she\\'ll be reunited with the fianc\\xc3\\xa9e she only wants to marry for his money. Also on board the wagon she\\'s traveling in is a shipment of government gold, cash the Cheyenne need to buy guns with, so in short order the soldiers are wiped out and Cresta flees to the hills, accompanied by Honus Gant (Peter Strauss), the lone surviving cavalryman. Calling Gant by the snarky nickname \"Soldier Blue,\" Cresta demonstrates that her years among the \"savages\" was time well spent, outstripping Gant in survival skills, common sense, and sheer balls, and over their journey toward the fort they must persevere against the elements, a band of hostile Kiowa, an unscrupulous trader \\xc2\\x97 played by Donald Pleasance, here giving one of his most ridiculous performances, and that\\'s saying something \\xc2\\x97 and, in the tradition of many previous western-set romantic comedies, each other.<br /><br />During the course of their misadventures the two opposites are inevitably \\xc2\\x97 and predictably \\xc2\\x97 attracted to each other and eventually end up getting it on \\xc2\\x97 while Gant has a freshly- treated bullet wound that went clean through his leg, no less \\xc2\\x97 in what was surely the only conveniently located cave for at least a twelve mile radius that wasn\\'t filled with rattlesnakes, mountain lions, or who knows what, to say nothing of the Cheyenne, who could have done something really spiffy with such a primo apartment (there I go, thinking in NYC real estate terms again). <br /><br />Realizing that their love could never flourish outside of the cave, Cresta leaves Gant and makes it to the fort by herself only to discover that the moron in charge won\\'t spare a couple of men so they can rescue Gant; the regiment needs all available personnel to launch an attack on the nearby Cheyenne village, and once Cresta gets wind of that she slips past her obnoxiously horny hubby-to-be and makes a beeline straight to the Cheyenne to warn them of what\\'s coming. <br /><br />What happens next is what gained the film its infamy; it turns out that all the wacky misadventures and squabbling were all just a lead-in to a hideous reenactment of the 1864 Sand Creek Massacre, an orgy of rape, torture and general sadistic evil perpetrated in the name of \"keeping the country clean,\" and almost forty years after its release this sequence still disturbs and nauseates for its sheer cruelty. Children are trampled beneath the hooves of charging horses or impaled on bayonets, unarmed people are beheaded \\xc2\\x97 a nice effect, I have to admit \\xc2\\x97 women are stripped and pawed by gangs of slavering brutes, then raped and mutilated \\xc2\\x97 in one truly sickening instance a naked native woman puts up too much of a fight, so her rapist instead decides to cut off her breasts, which we thankfully only see the start of before the camera moves on to chronicle some other hideous act \\xc2\\x97 and scores of innocent people are shot and dismembered, their compone nt parts impaled on pikes and waved about in victorious celebration or kept as the most ghoulish of souvenirs. No joke, this scene would instantly garner an NC-17 rating if released today, to say nothing of possibly spurring Native American interest groups to riot in the streets over the incredibly exploitative manner in which the atrocities are depicted.<br /><br />I\\'m all in favor of westerns that don\\'t shy away from honest portrayals of how the west was won, or stolen if truth be told, but this film has no idea of what kind of movie it wants to be; one minute it\\'s a heavy-handed pseudo-hippy lecture about how the treatment of the natives was totally effed up (well, DUH!), then it\\'s a light-hearted battle of the sexes farce wherein Cresta proves herself five times the man Gant is and manages to look hot in her tasty red calico poncho (with no undies), but that all goes out the window when Donald Pleasance shows up with an unintentionally (?) hilarious pair of buck-toothed dentures and our heroes must figure out how to escape from his murderous clutches in a sub-plot that goes nowhere, all of which culminates in the aforementioned apocalyptic climax. Any one of those tacks would have been okay for a coherent film, but the end result is a slapdash mess that milked the horrors of its final ten minutes for all they were worth in the film\\'s promotion and poster imagery. <br /><br />But by trying to be all things to all audiences, SOLDIER BLUE ends up as an incoherent, preachy Mulligan stew of presumably well-intentioned political correctness, but if they were going to tell the story of the Sand Creek Massacre, wouldn\\'t it have been a good idea to have some Indian characters who were more than just walk-ons with Murphy Brown acting as their mouthpiece? We get to know absolutely nothing of the people who get wiped out solely for what appears to be a crass ploy to lure gorehound moviegoers into seeing \"the most savage film in history.\" If you, like me, were intrigued by the provocative ads and reviews that shower almost endless praise upon it for its \"daring to tell it like it was,\" take my word for it and let SOLDIER BLUE slowly fade into cinematic obscurity.'\n",
            "0\n",
            "b\"I have been waiting for such an original picture such as this for quite some time now. Brokedown Palace has that `hard to believe' aspect, however with the ingenious directing, and screenplay, \\xc2\\x91Palace scores big. <br /><br /> I've really never enjoyed watching Claire Danes in any of her movies, but I'll tell you what, she really changed my mind with this one. Kate Beckinsale joins Danes on a vacation to Thailand where they meet up with a young man who convinces them to take a trip to Hong Kong with him. However, he neglected to inform them that they would be carrying an obscene amount of narcotics for him. Well, ultimately they get caught, and end up in a Thailand prison. I know, I know, how could you not know that you have 18 pounds of drugs? Well if you can get by that one tiny miscue, you will find a very well written, and acted out story. Lately I have found myself getting drawn into the storylines of the movies I watch, and developing a personal feeling for the characters that I watch. This movie is no different. By the end of the movie I found myself caring more for her than any of the other characters in the film. <br /><br /> Bill Pullman plays Hank Green, an attorney who lives in Thailand and specializes in international relations. As always Pullman delivers with an excellent performance and ties the movie together beautifully. <br /><br /> There are a few twists and turns that will, by the end of the movie, have you in tears. This is one of those movies that you have most likely passed by when searching for that movie to watch at home. It is my opinion that the next time out at the video store, do not pass by this one again.\"\n",
            "1\n"
          ]
        }
      ]
    },
    {
      "cell_type": "markdown",
      "source": [
        "# Prepare the data"
      ],
      "metadata": {
        "id": "liNusc7HWJrS"
      }
    },
    {
      "cell_type": "code",
      "source": [
        "# remove <br /> tags\n",
        "from tensorflow.keras.layers import TextVectorization\n",
        "import string\n",
        "import re\n",
        "\n",
        "pattern = \"<[^>]+>\"\n",
        "tf.strings.regex_replace(\"Text with tags.<br /><b>contains html</b>\", pattern, \" \")"
      ],
      "metadata": {
        "colab": {
          "base_uri": "https://localhost:8080/"
        },
        "id": "sGOLrJOXUMsq",
        "outputId": "789403ee-3b77-4b2d-b477-abc16911fd62"
      },
      "execution_count": 11,
      "outputs": [
        {
          "output_type": "execute_result",
          "data": {
            "text/plain": [
              "<tf.Tensor: shape=(), dtype=string, numpy=b'Text with tags.  contains html '>"
            ]
          },
          "metadata": {},
          "execution_count": 11
        }
      ]
    },
    {
      "cell_type": "code",
      "source": [
        "def custom_standardization(input_data):\n",
        "    lowercase = tf.strings.lower(input_data)\n",
        "    stripped_html = tf.strings.regex_replace(lowercase, pattern, \" \")\n",
        "    return tf.strings.regex_replace(stripped_html, f\"[{re.escape(string.punctuation)}]\", \"\")"
      ],
      "metadata": {
        "id": "RRoQJpC3UMvD"
      },
      "execution_count": 12,
      "outputs": []
    },
    {
      "cell_type": "code",
      "source": [
        "# Model constants\n",
        "\n",
        "max_features = 20000\n",
        "embedding_dim = 128\n",
        "sequence_length = 500"
      ],
      "metadata": {
        "id": "fZCW39R6YHBf"
      },
      "execution_count": 13,
      "outputs": []
    },
    {
      "cell_type": "code",
      "source": [
        "vectorize_layer = TextVectorization(\n",
        "    max_tokens = max_features,\n",
        "    standardize = custom_standardization,\n",
        "    output_mode = \"int\",\n",
        "    output_sequence_length = sequence_length\n",
        ")\n",
        "\n",
        "# vocab layer has been created, call `adapt` on a text-only\n",
        "# dataset to create the vocabulary. You don't have to batch, but for very large\n",
        "# datasets this means you're not keeping spare copies of the dataset in memory.\n",
        "\n",
        "text_ds = raw_train_ds.map(lambda x, y: x) # no labels\n",
        "vectorize_layer.adapt(text_ds)"
      ],
      "metadata": {
        "id": "xG9G0H_qZash"
      },
      "execution_count": 14,
      "outputs": []
    },
    {
      "cell_type": "code",
      "source": [
        "# batch_size = 32\n",
        "for train_dataset in raw_train_ds.take(1):\n",
        "    print(train_dataset[0].numpy())"
      ],
      "metadata": {
        "colab": {
          "base_uri": "https://localhost:8080/"
        },
        "id": "KiudiZzVpatb",
        "outputId": "eaac866e-4582-42eb-e0f9-c13fe983bf9e"
      },
      "execution_count": 29,
      "outputs": [
        {
          "output_type": "stream",
          "name": "stdout",
          "text": [
            "[b'The Bourne Ultimatum - Jason Bourne (Matt Damon in his best role ever), the newest spy kid on the block, brings his quest for his identity to a close as he also seeks to end the CIA\\'s latest program \"Blackbriar\" to make super assassins like himself.<br /><br />I was so psyched for this one that I watched it\\'s predecessors yesterday and today. Identity was as brilliant as I recall and Supremacy remains the weak (but still enjoyable) link in the chain for the weakest plot and, aside from a car chase which this film\\'s chase easily tops, slight lacking in action and suspense.<br /><br />Hoo boy, does Ultimatum have suspense! Even when you know Bourne will escape the authorities (and boy do these films spotlight the police as inept), it\\'s still brilliant watching him do it. It\\'s mind-boggling to think that two guys with handguns and mopeds can create 10x more suspense than anything those $150 million giant robots did in Transformers.<br /><br />Chalk it up to Paul Greengrass, who has this idiosyncratic style of shooting stedicam a la documentary, even though he\\'s filming characters that are far from ordinary, in places like CIA headquarters where no one within 10 miles would be allowed with a camcorder. He seemed to listen to my various complaints with Supremacy, as the action in Ultimatum is nothing less than awe-inspiring, with various implements used as weapons being a candlestick, a hardcover book (I\\'ll never look at those the same way again) and an electric fan (Don\\'t ask). The music also helped generate much suspense, and there was hardly ever a moment to not nail-bite over.<br /><br />The acting is good, and the evolution of Julia Stiles\\' character \"Nicky\" put her situation into a new highly sympathetic light. Damon plays his signature role with reserve but competency (which sounds minor but that it genuinely looks like Matt Damon could evade the CIA and Interpol is something), but noticeable moments of poignancy as he still struggles to find his humanity. This longing of his for a real life could get boring, and almost did in Supremacy, but just works better in Ultimatum (better script). <br /><br />I am reminded of a scene in \"Goldeneye\" (the only good Pierce Brosnan Bond film) in which Sean Bean\\'s character asks James if the martinis ever silence the screams of all the men he\\'s killed. Bourne regrets all the people he killed, and he considers (or at least made me consider) the meaning of action without purpose, life without meaning, and how the government has transformed men into resources. Albeit, resources that know Krav Maga and can make weapons out of anything.<br /><br />Sidenote: it\\'s always bothered me that, despite being a superspy and hunted by the CIA, Interpol, and the police nearly ANYWHERE he goes, that Bourne never thought to make even the smallest attempts to disguise his features or forge some new passports. Sunglasses maybe? <br /><br />If you have a pulse and love action movies, than Bourne Ultimatum is for you. Hell, it\\'s probably the best action film to come out this year. Of course, you\\'d be a fool to see it without watching the others first. It kind of drags a touch near the end, but I almost feel tempted to overlook that. This is the first \"3\" movie this summer to at least match, if not exceed, the original and that is saying something.<br /><br />A-'\n",
            " b\"The War Between the States was perhaps the darkest hour in the history of America; a war that pitted brother against brother and family against family and left scars that even today have not yet healed, and in all probability never will. And, as in any story about any war, beyond any historical significance it is the personal discord behind the greater conflict that creates the emotional impetus that makes it involving. It is the human element that renders the context necessary to give it perspective, which is what director Ang Lee provides in `Ride With the Devil,' a Civil War drama in which he focuses on the personal travails within the broader depiction of the War itself, and along the way manages to include an examination of one of the bloodiest chapters of the War, the infamous raid on Lawrence, Kansas, by Quantrill and his raiders, which he succeeds in presenting quite objectively from the Confederate point-of-view.<br /><br />In 1863, the Union influence predominates in the State of Kansas, and even across the border in neighboring Missouri, those with Confederate loyalties are finding it increasingly difficult to hold out against the encroaching Northerners, especially without the aid of what could be considered any `regular' Confederate troops. And when things begin to really heat up around their own town, Jack Bull Chiles (Skeet Ulrich) and Jake Roedel (Tobey Maguire) form a band of their own and join in the fray, doing damage to the Union cause wherever it is practicable. Jack Bull and Jake do not like the War and do not like killing; but they are standing up for what they believe to be right. <br /><br />There are others, however, even among their own, men like the young Pitt Mackeson (Jonathan Rhys-Meyers), who will use the conflict as a vehicle for personal gain and as nothing more than an excuse to express their own violent nature through unnecessary brutality, perpetrated in many instances against innocent victims. And so, for Jack Bull and Jake, as well as many just like them, it becomes a time in which loyalty and moral judgments will be sorely tested; a time during which their souls will be tempered in blood. And they will have to ride with the very Devil himself, against seemingly insurmountable odds.<br /><br />As with all of his films, director Ang Lee approaches his story through an incisive, yet subtle examination of the traditions, cultural aspects and moral attitudes of the people and times he is depicting. And in so doing, Lee provides his audience with at least some understanding of his subject that goes beyond the actual story and ultimately offers, perhaps, a deeper grasp of the motivations that propel his characters and the drama in which they are engaged. Whether it's the traditions and customs that account for the relationship between a father and his daughters (`Eat Drink Man Woman'), the effects of class distinction (`Sense and Sensibility'), the honor and code by which a warrior lives and dies (`Crouching Tiger, Hidden Dragon') or the moral ambiguities fostered by a lack of all of the above (`The Ice Storm'), Lee infuses his films with insights into the human condition that take them to a higher level. This film is no exception; and (as he does with all his films), Lee presents his story with the aid of breathtaking cinematography (in this film, by Frederick Elmes, who also did `The Ice Storm' brilliantly), which under his guidance is nothing less than visual poetry. It's that special Lee touch, and it adds a wistful, reflective sense to whatever story he is telling, which is one of the elements that make his films so memorable.<br /><br />As Jake, Tobey Maguire initially brings a sense of youthful innocence to the film that contrasts so effectively with the maturity he conveys later on as the story develops, and his character along with it. Most importantly, Maguire convincingly and believably responds to the events that unfold around him, which adds to the credibility of the overall film and underscores the realism of the presentation: His stoic acceptance of death and the news of those `murdered' in the various skirmishes and battles; the moral propriety to which those he encounters adhere, even in such troubled times; the betrayal, which because of the nature of the conflict is almost commonplace; and the loyalty and beliefs to which he and his companions cling adamantly. It is all of this that Maguire achieves through his performance, and it is no small accomplishment. It is, however, the kind of studied, understated performance that is often taken for granted, which is unfortunate; work like this is worthy of acclaim, and should be recognized.<br /><br />Skeet Ulrich is effective, as well, as Jack Bull, and Jewel (in her motion picture debut) turns in an engaging performance as Sue Lee Shelley. It is Jeffrey Wright, however, who stands out in a notable supporting role as Daniel Holt, as well as Jonathan Rhys-Meyers, who brings a chilling Christopher Walken-like menace to his role of Pitt. Also, in what amounts to a cameo role (one scene), Mark Ruffalo leaves an indelible impression with very little screen time.<br /><br />The supporting cast includes James Caviezel (Black John), Simon Baker (George Clyde), Tom Guiry (Riley), Tom Wilkinson (Orton Brown), John Ales (Quantrill), John Judd (Otto Roedel) and Kathleen Warfel (Mrs. Chiles). The Civil War will forever be an open wound upon the nation; but hopefully, as time goes on, it will be through the objective contemplations of filmmakers like Ang Lee and films like `Ride With the Devil' that will ultimately help to close the schism and promote healing. In light of more recent events, it is something that is sorely needed, worldwide. Film is a powerful medium; it can be educational as well as entertaining, and perhaps in the future more filmmakers, like Ang Lee, will embrace and promote a sense of unity through the sensitive depiction of the events and attitudes that make us what we are. 8/10. <br /><br /> <br /><br /> <br /><br />\"\n",
            " b'If you like plot turns, this is your movie. It is impossible at any moment to predict what will happen next. Nothing is as it appears or ends as you think it will. The characters are all gritty and engaging. Cage is at his best. Dennis Hopper again shows his delightfully sinister side. JT Walsh is perfect in his last performance. Laura Boyle sizzles. Dwight Yoakum makes a film debut superbly in a cameo. I categorize this movie as \"I am having a really, really, really bad day\" film. Not a slow minute in this film. A real sleeper. This movie is underrated and, sadly, overlooked.'\n",
            " b\"Yet another Die Hard straight to video rip off with cardboard villains\\xc2\\x85 How many more of these god awful cheaply (and badly) made rip off of the more popular action movies of the late 1980's and early 1990's are there still lurking out there? For the record (not that you will care really) this one is yet another blatant rip off of a combination of Die Hard, Under Siege and Speed 2 complete with a full complement of clich\\xc3\\xa9s and predictability.<br /><br />The non descript villains are the usual selection of cardboard cut out gun toting thugs who are dispatched by various means as the film progresses, the hero naturally is an ex cop or something that has family and attitude problems and of course he brings along to the party not only the usual emotional baggage but also a matching piece of eye candy and his annoying son.<br /><br />The supposed luxury cruise liner that is running between Florida and Mexico is carefully described as a cross between a liner and a ferry \\xc2\\x96 this goes someway to explaining how come they appear to be larking around on a rusty cross channel ferry \\xc2\\x96 in New Zealand! The acting is as wooden as the deck, the script woeful, the one liners predictable, the villains utterly inept and the plot has holes in it you could sail a boat through.<br /><br />There seems to be a never ending tide of this sort of rip off straight to video rubbish polluting the late night slots of television and the DVD bargain bins of supermarkets everywhere (although even this film is so bad it has yet to see a DVD release yet but give it time!) Is there any chance of something at least half decently made, semi believable and most important ORIGINAL?!? No, I thought not\\xc2\\x85..\"\n",
            " b\"I've been largely convinced to write this review for a number of reasons:<br /><br />1) This is, without doubt, the worst film i've ever seen 2) Unless it gets more reviews it will not be listed in the all time worst films list - which it deserves to be 3) I was kinda lucky - i paid five pound for it. i've seen it in shops for 15 pound. DON NOT PAY THAT MUCH FOR THIS FILM! You will be very angry 4) There are a lot of films out there in the horror genre that are not given a fair rating (in my opinion) and giving this film a higher rating than them is criminal<br /><br />The plot summary: a guy with no friends meets a tramp who promises the world - well, the magic ability to appear to everybody else like somebody else. Our hero cunningly turns into a teenage girl and joins their gang - sitting on swings, baby-sitting. He kills them one by one until he is tracked and found by the police.<br /><br />Why is it so bad? To begin with the acting is VERY VERY bad. Someone else compared it to a school production. No, this is worse than any acting i've seen on a school stage.<br /><br />I've bought a number of these previously banned films from the DVD company vipco and not been as disappointed as i was at this. okay, the acting is bad but the film fails to deliver in every other sense. What was the point in making this film when there isn't even any gore! okay, no gore. What else can a film like this offer? Breats? No, not even any titillation!<br /><br />it's true this film may have a certain charm in its unique naffness but any potential buyer/watcher of this film should be fairly advised that this film is, at best, worth only one out of ten.\"\n",
            " b'\"The Kennel Murder Case\" starts off at a run and doesn\\'t stop until the very end. Everybody had reason to kill the victim, and several people tried. William Powell is terrific as Philo Vance, gentleman detective. Mary Astor is refreshing as the put-upon niece who only wants to marry her Scottish gentleman and enjoy her inheritance. This movie comes paired with \"Nancy Drew, Reporter\" on DVD, which is also fun. If you have to rent the disc (or check it out from your local library), do it. It\\'s pure entertainment!'\n",
            " b'5 minutes into this movie I was hyperventilating, shaking, and writhing in pain. And not in the good way. The story is about a troupe of idiotic children making prank phone calls to a psycho which is always a good idea. Turns out psychos don\\'t like prank phone calls because in 2 minutes time he\\'s at their door killing poor Williams mom and dad. Well skip ahead 15 years and guess what? Still prank phone calling people. Yep you would of thought that a horrible murder would of deterred them from doing that ever again but no. So after about two hours later and way too many scream ripoffs I realized that this movie gave me nothing but a terrible taste in my mouth and a severe urge to take my own life. This piece of crap isn\\'t even worth laughing at the shoddy production, the \"acting\", or Rutger haurs dwindling career. I love crappy horror movies but this is the most unsatisfying piece I\\'ve ever seen. Just don\\'t.'\n",
            " b'Why can\\'t more directors these days create horror movies like \"The Shining\"? There\\'s an easy answer to that: modern day directors are not Stanley Kubrick. Kubrick proved once-and-for-all with this movie that he is truly one of the greatest directors and auteurs of all time.<br /><br />So, the plot is fairly simple. A man named Jack Torrance (played brilliantly by Jack Nicholson)and his family move into a large, secluded hotel to watch over it for the off-season. The kicker is that the previous caretaker of the hotel savagely murdered his wife and two girls. What follows can most readily be summed by the title of the movie, but you have to watch it to see what I mean.<br /><br />This is the first movie in a very long time to strike me as \"scary\". It\\'s some seriously messed up stuff, but in a good way. One of the things that adds to the scare factor is the amazing music. Music has been a major part of Kubrick\\'s movies (2001: A Space Oddysey and A Clockwork Orange, just to name a couple) and he definitely doesn\\'t disappoint with this one. The score completely sets the tone and this film would not be the same without it.<br /><br />Finally, I must comment on Nicholson\\'s legendary performance. Jack is terrifyingly convincing as a crazy killer. In fact, just his stare steals a few scenes of this movie. This is top-notch acting that must be seen to believe.<br /><br />There will never be a horror movie that quite matches this one. R.I.P. Stanley.'\n",
            " b'To start off with, since this movie is a remake of a classic, the rating has to be lowered already. Since this version stars Viggo Mortensen in the lead role of Kowalski, it helps.<br /><br />Isn\\'t this just like the United States government though, to terrorize one of its own citizens. Sounds like Jason Priestley\\'s character from the movie! But it is the truth, the government would do anything possible to destroy a man\\'s life for trying to get home to his wife. A wife, who is in labor no less, and may not make it.<br /><br />\"There was a time in this country that the police would escort a man to his pregnant wife.\" The words of the Disc Jockey.<br /><br />There were some great shots of scenery in this film, and great car chases and a lot of spirituality. After much consideration, I gave this film a 7.'\n",
            " b\"Prison is not often brought up during conversations about the best eighties horror films, and there's a good reason for that because it's not one of the best...but as you delve past the classic films that the decade had to offer, this is certainly among the best of the lesser known/smaller films. The film does have some connection to blockbusters; for a start it's an early directorial effort for Renny Harlin; the capable director behind a number of action films including Die Hard 2, Cliffhanger and Deep Blue Sea; and secondly we have an early role for Lord of the Rings star Viggo Mortensen. The film is not exactly original but the plot line is interesting. We focus on a prison that has been reopened after a number of years. This was the prison where a man named Charles Forsyth was sent to the electric chair after being framed by the prison's governor. Naturally, the spirit of the dead man is not resting in peace; and when the old execution room is reopened, the spirit of the dead convict escapes for vengeance.<br /><br />The film is not exactly The Shawshank Redemption, but it does take care to build up its various characters and while the main point of the film is always the horror, the prison drama behind it all does make for an interesting base. This is a good job too because other than the basic premise, the film doesn't really have a 'plot' to go from and we solely rely on the interaction between the characters to keep things interesting. The horror featured in the film is at times grotesque but it's never over the top, which might actually be the reason why this film is seldom remembered, being released in a decade of excess. The murders themselves are rather good and imaginative, however, and provide some major highlights. As the film goes on, we start to delve more into the back-story of the vengeful convict's ghost and while it's fairly interesting, some things about it don't make sense and it drags the film down a little. Still, everything boils down to an exciting climax and overall I have to say that Prison is a film well worth tracking down.\"\n",
            " b\"Knights was just a beginning of a series, a pilot, one might say. The plot (I really shouldn't call it that, there wasn't any plot) wasn't logical at all and there were many mistakes, like [warning, I'm summarizing the plot]:<br /><br />In the beginning of the movie someone said that there was only a couple of those cyborgs (the bad guys) but after the climax, Nea found out that there were many many more left of them. And it was told that cyborgs were hard to kill, but after a month's training, Nea could kill them with a single blow.<br /><br />The movie was just pure kicking. I wasn't surprised at all, when I found out that the leading star was a kick boxer.<br /><br />There was ONE positive thing in the whole movie: it really gave a great deal of laughter when watching it and talking about it with my friends. I recommend watching it, if you are in need of laughter.\"\n",
            " b\"I understand what this movie was trying to portray. How the old are often ignored and treated like a bother, which means they end up feeling unappreciated and like their lives are empty.<br /><br />I do not have a problem with this message, but I just feel that it could have been put across in a way that is not so painful to watch. I enjoy a good art movie but when a movie becomes too self-consciously arty (as in this case) the result is often frustrating. Including shots of a person packing a suitcase slowly that take 5 minutes try to make a point but just end up annoying the audience.<br /><br />The female characters are very weak and you end up wanting to just tell them to pull it together. This is a movie you feel you should enjoy or rate highly and certainly has its' merits but I was just too frustrated watching it to ever recommend it to someone else. It might have a deeper message than other Roger Michell movies (for example: 'Notting Hill') but at least that was a movie you could enjoy watching.\"\n",
            " b'I was impressed that I could take my 5 year old son to this movie without having to cover his ears or eyes. No sex scenes, no profanity, and not even any violence. Just good entertainment, enjoyable from beginning to end. Dennis Quaid pulls off this movie very well.'\n",
            " b'The Blob starts with one of the most bizarre theme songs ever, sung by an uncredited Burt Bacharach of all people! You really have to hear it to believe it, The Blob may be worth watching just for this song alone & my user comment summary is just a little taste of the classy lyrics... After this unnerving opening credits sequence The Blob introduces us, the viewer that is, to Steve Andrews (Steve McQueen as Steven McQueen) & his girlfriend Jane Martin (Aneta Corsaut) who are parked on their own somewhere & witness what looks like a meteorite falling to Earth in nearby woods. An old man (Olin Howland as Olin Howlin) who lives in a cabin also sees it & goes to investigate, he finds a crater & a strange football sized rock which splits open when he unwisely pokes it with a stick. Laying in the centre of the meteorite is a strange jelly like substance which sticks to the stick, if you know what I mean! It then slides up the stick & attach\\xc3\\xa9s itself to the old man\\'s hand. Meanwhile Steve & Jane are quietly driving along minding their own business when the old man runs out in front of Steve\\'s car, Steve being a decent kinda guy decides to take the old man to Dr. T. Hallan (Alden \\'Stephen\\' Chase as Steven Chase) at the local surgery. Dr. Hallan says he doesn\\'t know what the substance on the old man\\'s hand is but it\\'s getting bigger & asks Steve to go back where he found him & see if he can find out what happened. Steve agrees but doesn\\'t come up with anything & upon returning to Dr. Hallan\\'s surgery he witnesses the blob devouring him. The town\\'s police, Lieutenant Dave (Earl Rowe) & the teenage hating Sergeant Jim Bert (John Benson) unsurprisingly don\\'t believe a word of it & end up suspecting Steve & his mates Al (Anthony Franke), Tony (Robert Fields) & someone called \\'Mooch\\' Miller (James Bonnet) of playing an elaborate practical joke on the police department. However as the blob continues to eat it\\'s way through the town Steve sets about finding proof of it\\'s existence & convincing the police about the threat it posses not just to their town but the entire world!<br /><br />Directed Irvin S. Yeaworth Jr. & an uncredited Russell S. Doughton Jr. I was throughly disappointed by this, the original 1958 version of The Blob. The script by Kay Linaker as Kate Phillips & Theodore Simonson is an absolute bore & extremely dull not making the most of it\\'s strongest aspects. The Blob focuses on the tiresome dramatics & conflicts between the teenagers & police, in fact the majority of The Blob is spent on Steve trying to convince the police of the blob\\'s existence. For most of the film the blob itself almost seems inconsequential & somewhat forgotten. It only has two or three scenes for the fist hour & a bit until the less than exciting climax when the adults & teenagers have to work together to defeat the blob & have a new found appreciation of each other afterwards, yuck! Why couldn\\'t the blob just eat the lot of \\'em? No explanation is given for what the blob is or it\\'s origins other than it came from space, how long did it take them to come up with that? The dialogue is clunky & silly as well, as are people\\'s actions & decision making, I love the part when a nurse named Kate (Lee Paton as Lee Payton, did anyone use their real name in this thing?) is confronted by the blob, she throws some acid over it & calmly proclaims \"Doctor, nothing will stop it!\", how does she know \\'nothing\\' will stop it exactly? There\\'s no blood or violence so don\\'t worry about that, the special effects on the blob itself aren\\'t too bad considering but it barely has any screen time & moves very slowly, a bit like the film in general actually. The acting is terrible, McQueen is supposed to be a teenager when in reality he was 28 years old & it shows, he looks old enough to be his own dad! Same thing goes for most of the other \\'teenage\\' cast members & everyone generally speaking are wooden & unconvincing in their roles. Technically The Blob is very basic, dark static photography, dull direction & forgettable production values. The Blob is one of those films that probably sounds good on paper & is well known as being a \\'classic\\' but is in actual fact a huge disappointment when finally seen. This is one case when the remake The Blob (1988) is definitely better than the original. The original Blob is slow & boring & the remake isn\\'t, the original Blob contains no blood or gore & the remake does, the original Blob has incredibly poor acting & casting decisions & the remake doesn\\'t & the original Blob itself gets very little screen time eating only three or four people throughout the entire film & the remake features the blob all the way through & it virtually eats an entire town. The choice is an easy one, the remake every time as it\\'s a better film in every respect. I\\'ll give the film two stars & give that wonderful main theme song one on it\\'s own. Definitely not the classic many seem to make out.'\n",
            " b\"Steven what have you done you have hit an all new low. It is weird since Steven's last film shadow man was directed by the same director who did this trash. Shadow man was good this was diabolically bad so bad it wasn't even funny Steven is hardly in the movie and feels like he is in a cameo appearance and when he is in the film he is dubbed half the time anyway. As for the action well let's just say the wizard of oz had more action than this trash there is hardly any action in the film and when it does finally arrive it is boring depressing badly shot so called action scenes. Seagal hardly kills anyone unlike his over films where he goes one man army ie under siege 1 and 2 and exit wounds. the plot is so confusing with so many plot holes that it doesn't make scenes sometimes. flight of fury better be good what a shame i wasted 5 pounds on this garbage 0 out of ten better luck next time\"\n",
            " b\"This is a movie which attempts a retelling of Thai history, set in the ancient city of Ayutthaya. I decided to watch this film because I thought it was along the lines of many Thai films I've watched and enjoyed, one that has Thai actors speaking Thai and martial arts craziness. Well, it's none of that. This film is shot entirely in English, is chock full of Anglo actors, and has production values so terrible it is laughably bad....but not funny! Who can we blame for this rubbish? The acting, dialog, and most of the sets were quite bad. Some of the fight scenes looked like they were choreographed by the local high school drama club. The special effects were also mostly bad, but a few were just cheap animation patched onto the screen that provided an especially cheesy effect. It has one large, epic-style outdoor battle scene, where a few thousand extras get to run across a field in costume, but when we see the two armies collide in combat--HA! What a joke! The film does feature a couple of beauties. What a pity they didn't show a little more skin. At least that would have been something for the guys to appreciate. Don't bother.\"\n",
            " b\"On September 11th, 2001, millions were killed; but 2,819 lives ended in an especially gruesome manner. They were the victim of a plane hijacking by extremists whose sole mission was to destroy buildings, but more importantly, people. This film takes an in-depth look at four people whose lives were cut short by this disastrous event and one man whose life was shattered by the loss of their lives.<br /><br />Charlie Fineman (played by Adam Sandler), a former dentist living in New York, loses his wife and three children on September 11th as they were on their way to Los Angeles. Emotionally annihilated by the events, he eventually loses touch with everyone who reminds him of his former life; including his in-laws and his best friend (played, respectively, by Robert Klein, Melinda Dillon, and Mike Bender). He goes into completely denial and does his best to forget about his former life. This continues until he runs into his old college friend Alan Johnson (played by Don Cheadle) who Fineman doesn't seem to remember. The two begin to catch up, but Fineman believes Johnson was sent by people from his former life to persuade him into finding help. Slowly, but surely, Fineman regains his trust for Johnson.<br /><br />While all this is happening, Alan Johnson's life is going down the wrong path. He is a self man (dentist) who helps start a dental practice. One day, a patient of his named Donna Remar (played by Saffron Burrows) attempts to make a move on him, telling him that she would like to perform oral sex for him. This is an unwelcome surprise to Dr. Johnson since he is a married man with two children. As he is coming home from work on a particular workday, he sees his old friend (Fineman) and tries to flag him down. He is unsuccessful, but he gets another opportunity and persuades Fineman to get a come of coffee with him to catch up, despite the fact that Fineman doesn't know who he is.<br /><br />One of the most interesting things about this movie is its use of music as a motif. One of Fineman's physiological crutches is music, particularly Springsteen and other classic rock artists. When Fineman is asked to open up about his past or to talk about things he finds unpleasant, he puts on his earphones and drowns out the world with things his music.<br /><br />When the film was over, I had me thinking: how would I cope with the loss of my family? How would I deal with such a tragic events. It's something we don't really think about too often. We always think they'll be there and we often take them for granted, whether we intend to or not. We usually realize how important they are when it's too late; and a blow like that can destroy someone physically, emotionally, and physiologically. I really don't know how I would be able to deal with something like that. Would I face the problem head on, cope, and move on with my life or would I just put my headphones on and block the world?\"\n",
            " b\"It's the nature of businesses to try to capitalize on others' success. Here we have a movie taking elements from the earlier 'Dracula' (1931) and 'Frankenstein' (1931) -- in a Germanic town the village leaders believe that vampires (in the shape of bats) have been the cause of recent deaths of bloodless victims. Even though shot at Universal (and at the Bronson caves!) it's a Poverty Row feature; it's not fair to compare it with those earlier, more expensively made and superior films.<br /><br />From the familiar and exciting, chilling music of the main titles (which must have been by Mischa Bakalienikoff), through the talky but well done opening sequence, we anticipate the arrival of Lionel Atwill, Fay Wray and Dwight Frye to give us a good 30s mystery film. Unfortunately, it doesn't happen. That's the disappointment.<br /><br />We get little more than the formulaic elements of such films but with slow pacing, low budget, not enough of Dwight Frye, the overdone presence of Maude Eburne (Aunt Gussie), and the premise for Lionel Atwill (Dr. von Niemann) to require human blood or how he exhibits mind control over his servant Emil (Robert Frazier) never made very clear.<br /><br />Do not watch the technicolor 'Dr. X' (1932) -- which also stars Lionel Atwill and Fay Wray but as father and daughter -- before watching this the way I did; it's an Oscar winner by comparison. So watch this one first. Structurally, 'The Vampire Bat' still isn't that good. It plods along with too much talking or unnecessary comic relief, without focusing strongly on the vampiric villainy.<br /><br />Besides 'Dr. X' and 'Mystery of the Wax Museum' (both 1932 and co starring Fay Wray), Lionel Atwill's most famous appearances are as the one armed gendarme in 'Son of Frankenstein' (1939) and as Moriarity in 'Sherlock Holmes and the Secret Weapon' (1943). Dwight Frye steals all his manic scenes in 'Dracula' (1931). As the 'young lovers,' Melvin Douglas and Fay Wray have a nice kissing scene, but that's about it. He can be seen in 'The Old Dark House' (1932), and Fay gets dragged around by Joel McCrea in 'The Most Dangerous Game' (1930). Then there's her 1933 classic 'screamer.' Too bad more time, money and rewrites weren't available for this film to better showcase the talents and chemistry of Lionel Atwill, Fay Wray and Dwight Frye. Sadly, then, this drearily disappointing film only gets a 4.\"\n",
            " b'I knew nothing of this film before I was convinced to see it by a friend who had heard it was a \"non-stop epic battle scene from beginning to end\". That couldn\\'t have been further from the truth. This was one of the most boring, poorly written, amateurishly directed, horribly acted films I\\'ve ever had the misfortune to lay my eyes upon. I\\'d rank it up there with the movie I consider to be the worst film of all time... Battlefield Earth. There basically is no story, it\\'s hard to believe that the makers of this film thought that this cheesy soap opera crap would be taken seriously as actual historic fact. It also features some of the worst dialogue I\\'ve ever heard... like this little gem... Guy tells girl \"You smell like the moon.\". Girl replies \"What does the moon smell like?\" OMG! You have to be kidding me! The scene where the guy was drawn and quartered got some good laughs from the audience since it looked so ridiculously cheap and the sound FX of the guy being ripped apart reminded me of someone making a fart sound with their mouth. If this is playing at a theater near you, avoid it at all costs. This movie is so bad that I actually made the decision about 45 minutes through that I needed to catch up on my sleep... and I did. Awful.'\n",
            " b\"If you have plenty of time to waste ... it's OK. It moves at a good pace but to pull this movie off it would need to be a little longer with a little more background on the sitter. <br /><br />The acting is OK. Mariana Klaveno as the sitter does the best job and is the most believable.<br /><br />William R. Moses played a pretty good part as the husband.<br /><br />Gail O'Grady, as the wife, had a weak part and the reasons for her going back to work were not developed.<br /><br />The ending is sort of silly. Like most of these sitter movies ... there are parts that are interesting ... but overall it leaves you wondering why you spent the time.\"\n",
            " b'I saw this recently and I must say, I was moved by the factual basis of the story. However, \"Holly\" as a movie did not quite work. I am however, looking forward to watching the documentary which the producers who organised this project had made because I think that would be a much more compelling work than this film.<br /><br />The international cast was composed of B-class actors but their acting was appropriate, and I must give a special mention for the young actress who played Holly. This was her first movie role and she did a very nice job, considering hers is the most challenging part. <br /><br />Ron Livingston was adequate but bland as Patrick, the American whose quest is to \"save\" Holly, but Chris Penn was good in this, his final role. Unfortunately, despite my mostly favourable opinion of Virginie Ledoyen and Udo Kier, both of these actors were very much forgettable and did not do their best work in this film.<br /><br />I believe in the film\\'s message and intention, but I have to be fair, so I rate \"Holly\" 3 stars based on its shortcomings as a movie. But I think the subject matter deserves serious consideration and I am pleased that the people behind this movie have made a documentary as well which I hope will have its debut on BBC and other TV networks.'\n",
            " b'<br /><br />The movie \"Slugs\" is unique because the titular vermin are actually the good guys in this horrific tale of nature gone awry. You see, these poor slugs have been mutated through the pollution of evil humans and don\\'t mean to do anything malicious, they\\'re just slugs- slugs with sharp teeth who eat flesh and excrete poison, but slugs none the less. The real bad guys are the humans, who either actively try to destroy our beloved slugs, or overreact when they encounter them.<br /><br />For example, take the scene where the guy puts on the glove full of slugs. They were just hanging out in a comfortable work glove when out of nowhere this giant hand came at them, and they reacted instinctively, defending themselves and biting the guy. Now, instead of seeking medical attention for his slug bite, this guy runs around his greenhouse screaming like an idiot, spills some highly volatile chemicals, starts a fire, knocks a bookcase over on himself, and cuts off his own hand- then the fire and volatile chemicals mix and his house explodes. How can you blame that on the slugs?<br /><br />This movie paints a portrait of humans that is less than favorable. The characters in this movie include the dumb sheriff who hates everybody, the drunk hick who\\'s mean to his dog, and the lumpy sidekick whose wife is at least forty-five years older than him. There\\'s also a set of drunken teens<br /><br />that get attacked while copulating, and we have to see the skinny long-haired freaks\\' genitals. Meanwhile, there\\'s a guy who looks like a demonic Leslie Neilson who yells \"You don\\'t have the authority to declare happy birthday!\" for some reason. Finally, this parade of loathsomeness is rounded out by the guy from the MST3K classic \"Pod People\" whose face explodes after eating a slug-laces salad (another easily avoided fate blamed on the helpful, harmless slugs).<br /><br />Humans are portrayed as greedy, stupid, racist, alcoholic, and, in one pointless scene, as would-be rapists. In the movie\\'s climactic scene, the villainous humans try to burn the slugs who are cowering helplessly in the sewers, Well, since they\\'re idiots, the humans succeed in BLOWING UP THE ENTIRE TOWN. They alone do more damage than the slugs ever did!<br /><br />If you hate humans, and I know I do, you\\'ll appreciate \"Slugs\". If you\\'re a fan of bad cinema, you\\'ll also appreciate this crapfest from the director of \"Pieces\" and \"Pod People\". There\\'s enough bad acting, silly dialog, illogical plot twists, lame special effects, pointless scenes, and poor dubbing to hold your attention.'\n",
            " b'This movie was the worst movie ever made on the planet, I like BARNEY more than this movie. The graphics suck, half the movie is animated, the deaths suck, and over all, I was ready to SUE the people that made this movie!PLEASE DO NOT WASTE HOURS OF YOUR LIFE WATCHING THIS MOVIE. The only good part was when the movie ******* ended! This movie is 50 percent Jurassic park, .1 percent Sabretooth, and 49.9 percent DUMB! Please do not waste your time watching this movie, you will regret it.You want to know why this movie sucks? Well, the cover sucked, the graphics sucked, the blood looked ( I mean is) ketchup, the people tried to blow themselves up, the college students think there all that and can stand up to the animal. I mean, there was a 5 ft. tiger running straight at a woman, she throws a spear at it from 100 ft away! WAIT TILL YOU CAN Actually HIT IT! The acting was horrible too. Jurrasic Park is actually a good movie, and this just had to go and ruin it.'\n",
            " b'According to this board, I guess either you love it or hate it. Usually how it goes with all movies. There is no need to get testy with others though. All we are doing here is giving opinions. I rented this movie last night and I want to come and throw my opinion in the mix. I was surprised by how many people are thrashing it though. There\\'s a difference between a movie fan and a horror movie fan. I\\'m a horror movie fan. Most plain ol\\xc3\\xa9\\' movie fans don\\'t like horror movies. So many low budget cam corder looking movies are coming out these days. It\\'s hard to keep up. And what makes it tough to stay into these movies is how bad they are. I wanted to come and write a review about \"Hood of the Living Dead\" because it\\'s pretty damn good compared to the rest of the junk out there. It\\'s nothing special but it\\'s those horror film makers that try to be too serious that end up making a horrible horror film. I really liked this one. You telling me there is no effort in this one? And one more thing, I bet all of you have all of these huge DVD collections that you are so proud of, nothing but Major Motion Pictures right? Nothing wrong with that, but you have to know how to appreciate low-budget independent. I knew what I was getting when I watched this movie. I\\'m not going to be upset because I thought it was going to be some 100 million dollar movie. Some of you might need to stick with watching the Matrix over and over again and stop trying to compare everything to the Matrix. And if most of you are under 24, that explains everything. Good movie folks, check it out.'\n",
            " b'NO SPOILERS.<br /><br />I love horror movies, but this has got to be the poorest attempt to make one ever. Calling it \"a movie\" is also a stretch. This \"random-clips-of-obviously-fake-and-tacky-violence-and-an-ugly- woman-trying-to-act-sexy-edited-poorly-together\" is not worth watching.<br /><br />Watching this is about as interesting watching as some random family\\'s holiday pictures, and it has about the same quality you would expect when you send your ten year old son into the woods with your new vid-cam, and tell him to make a movie.<br /><br />Terrible.'\n",
            " b\"I was so excited to see this film because I had always heard it was very scary.<br /><br />What's interesting about it is that it is a Japanese film they decided to bring to America, but they actually filmed it IN japan with the original crew! I think this made the film... more Japanese (which is probably why it managed to be fairly successful unlike most Japan-to-America horror movie flops) but it also made it a bit inaccessible to American audiences. The difference in what scares the Japanese culture and what scares the American culture felt present throughout the film. This worked well in moments when they meant to capture the nervous fear of the main character: a frightened fish in a big, busy, unfamiliar, Tokyo pond.<br /><br />The storyline was quite confusing as well. In typical Japanese fashion it is extremely complicated and confusing. The beginning of the movie is actually the middle of the story and from there we move constantly forwards and backwards until, at the end of the film, we see the ending and beginning of the whole story. This constant flipping through time was very much confusing for me. Also, I didn't think some things were explained so well and I had to ask my friend to explain them to me (she had already seen it, as well as the sequel which apparently reveals more of the story).<br /><br />Overall, there IS plenty for American audiences to love, tons of freaky imagery and macabre details which a healthy splash of jump scenes.\"\n",
            " b'As predictable as a Hallmark card, but not without merit, The Rookie makes for a solid outing. Dennis Quaid, the most reasonable jock actor working today, is absolutely perfect as the science teacher turned baseball player Jimmy Morris. The film is never dumbed down for the children, as would be expected from a G rated film. As a sports film, The Rookie is one of the best I have seen since Any Given Sunday.'\n",
            " b'Even in the 21st century, child-bearing is dangerous: women have miscarriages, and give birth prematurely. Seventy-five years ago, it was not uncommon for women to die during childbirth. That is the theme of \"Life Begins\": a look at the \"difficult cases\" ward of a maternity hospital. Loretta Young plays the lead, a woman brought here from prison (what crime she committed is not germane to the plot) to give birth; she\\'s conflicted about the fact she\\'s going to have to give her baby up after birth. She\\'s in a ward with several other women, who share their joys and pain with each other.<br /><br />Although Loretta Young is the lead, the outstanding performance, as usual, is put in by Glenda Farrell. Farrell was one of Warner\\'s \"B\" women in the 1930s, showing up quite a bit in supporting roles, and sometimes getting the lead in B movies (Farrell played Torchy Blane in several installments of the \"Torchy\" B-movie series.) Here, Farrell plays an expectant mother who doesn\\'t want her children, since they\\'ll only get in the way. She does everything she can to get in the way of the nurses, including smuggling liquor into the ward (this of course during the Prohibition days), and drinking like a fish -- apparently they\\'d never heard of fetal alcohol syndrome back in the 30s.<br /><br />Interestingly, unlike most movie of the early 1930s, it\\'s not the women being bumbling idiots getting in the way of the heroic men -- that situation is reversed, with the expectant fathers being quivering mounds of jelly. (Watch for veteran character actor Frank McHugh as one of the expectant fathers.) \"Life Begins\", being an early talkie, treats the subject with a fair dollop of melodrama, to be sure, but it\\'s quite a charming little movie. Turner Classic show it, albeit infrequently; I\\'ve only seen it show up on a few days honoring Loretta Young. But it\\'s highly recommended viewing when it does show up.'\n",
            " b'Meaning: if this movie got pitched, scripted, made, released, promoted as something halfway respectable given the constraints (yeah, I know, Springer, sex, violence), where is He?<br /><br />Reminded me of porn movies I saw in college, plot and dialogue wise.... shoulda just done something for the scurrilous porno market, showed penetration and be done with it-- would have made more money, the ultimate point of this exercise....'\n",
            " b\"This had to be one of the most god awful wrestlemanias ever and is only saved by 2 matches. The hardcore match between Edge and Mick Foley, also Vince Mcmahon against Shaun Michaels. The main event between Cena and Triple H was a complete washout and to be honest I nearly fell asleep it was so actionless, the casket match was not worthy of having the Undertaker appear in it and the match between the Boogie Man and Booker T was a complete joke. If you are really a big fan of the WWE and have missed the early days of the WWF and the Wrestlemanias 17 and 19 you'll probably love this. But I found that this Wrestlemania left a lot to be desired.\"\n",
            " b'I think it unfortunate that the leading comments on this movie include the words \"Clueless and appalling nonsense.\" I think it is a very funny movie and excellent entertainment. One has to suspend one\\'s disbelief that a homosexual man and a lesbian woman could fall in love, have a child and live together happily ever after. But it is always wonderful to see it played out in a movie and have one\\'s heart warmed. Is it so impossible? There are far more implausible events described in other movies. The acting is good, the script is funny. The only negative comment is that the story could well have ended when the family drives away from its initial house instead of extending on to explore whether the man retains any residual homosexuality.'\n",
            " b\"It Could Have Been A Marvelous Story Based On The Ancient Races Of Cat People, but it wasn't.<br /><br />This work could have been just that; marvelous and replete with mythological references which kept my fascination fueled. The lead characters (Charles Brady played by Brian Krause; and his mother Mary, played by Alice Krige) were shallowly done, had no depth of personality and were hardly likable or drawing. Not even M\\xc3\\xa4dchen Amick (who played Tanya Robertson)'s character fit into that description. <br /><br />However, as I've said many times before, when you adapt a Stephen King novel for TV, you simply must take into account the fact that his books aren't written for TV, and his screenplay talent sadly lacks the fire and depth he exhibits as a novelist. <br /><br />This is another botched attempt to take the magick of Stephen King writing, whether that is of his novels or an original screenplay. To simply cut and paste his work onto the small screen. His novels get completely bastardized in the process and all you end up creating is a nice movie; nothing less but certainly nothing more. His screenplays are hit and miss. Unfortunately, this screenplay translation was a miss. <br /><br />Sorry, Sorry, Sorry movie.<br /><br />This movie gets a 1.0/10 from...<br /><br />the Fiend :.\"]\n"
          ]
        }
      ]
    },
    {
      "cell_type": "code",
      "source": [
        "# Vectorize the data.\n",
        "def vectorize_text(text, label):\n",
        "    text = tf.expand_dims(text, -1)\n",
        "    return vectorize_layer(text), label\n",
        "\n",
        "\n",
        "train_ds = raw_train_ds.map(vectorize_text)\n",
        "val_ds = raw_val_ds.map(vectorize_text)\n",
        "test_ds = raw_test_ds.map(vectorize_text)\n",
        "\n",
        "# Do async prefetching / buffering of the data for best performance on GPU.\n",
        "train_ds = train_ds.cache().prefetch(buffer_size=10)\n",
        "val_ds = val_ds.cache().prefetch(buffer_size=10)\n",
        "test_ds = test_ds.cache().prefetch(buffer_size=10)"
      ],
      "metadata": {
        "id": "UJrAZXRUZa2a"
      },
      "execution_count": 15,
      "outputs": []
    },
    {
      "cell_type": "code",
      "source": [
        "# Build a model\n",
        "\n",
        "from tensorflow.keras import layers\n",
        "\n",
        "inputs = layers.Input(shape=(None,), dtype=\"int64\")\n",
        "\n",
        "# Embedding\n",
        "x = layers.Embedding(max_features, embedding_dim)(inputs)\n",
        "x = layers.Dropout(0.5)(x)\n",
        "\n",
        "x = layers.Conv1D(128, 7, padding=\"valid\", activation=\"relu\", strides=3)(x)\n",
        "x = layers.Conv1D(128, 7, padding=\"valid\", activation=\"relu\", strides=3)(x)\n",
        "x = layers.GlobalMaxPooling1D()(x)\n",
        "\n",
        "x = layers.Dense(128, activation=\"relu\")(x)\n",
        "x = layers.Dropout(0.5)(x)\n",
        "\n",
        "predictions = layers.Dense(1, activation=\"sigmoid\", name=\"predictions\")(x)\n",
        "\n",
        "model = tf.keras.Model(inputs, predictions)\n",
        "\n",
        "model.summary()\n",
        "\n",
        "model.compile(loss=\"binary_crossentropy\", optimizer=\"adam\", metrics=[\"accuracy\"])"
      ],
      "metadata": {
        "colab": {
          "base_uri": "https://localhost:8080/"
        },
        "id": "djjoeIY7Za4y",
        "outputId": "4c2064c6-a079-472d-cae3-f8ecb375ff21"
      },
      "execution_count": 16,
      "outputs": [
        {
          "output_type": "stream",
          "name": "stdout",
          "text": [
            "Model: \"model\"\n",
            "_________________________________________________________________\n",
            " Layer (type)                Output Shape              Param #   \n",
            "=================================================================\n",
            " input_1 (InputLayer)        [(None, None)]            0         \n",
            "                                                                 \n",
            " embedding (Embedding)       (None, None, 128)         2560000   \n",
            "                                                                 \n",
            " dropout (Dropout)           (None, None, 128)         0         \n",
            "                                                                 \n",
            " conv1d (Conv1D)             (None, None, 128)         114816    \n",
            "                                                                 \n",
            " conv1d_1 (Conv1D)           (None, None, 128)         114816    \n",
            "                                                                 \n",
            " global_max_pooling1d (Globa  (None, 128)              0         \n",
            " lMaxPooling1D)                                                  \n",
            "                                                                 \n",
            " dense (Dense)               (None, 128)               16512     \n",
            "                                                                 \n",
            " dropout_1 (Dropout)         (None, 128)               0         \n",
            "                                                                 \n",
            " predictions (Dense)         (None, 1)                 129       \n",
            "                                                                 \n",
            "=================================================================\n",
            "Total params: 2,806,273\n",
            "Trainable params: 2,806,273\n",
            "Non-trainable params: 0\n",
            "_________________________________________________________________\n"
          ]
        }
      ]
    },
    {
      "cell_type": "code",
      "source": [
        "epochs = 3\n",
        "\n",
        "model.fit(\n",
        "    train_ds,\n",
        "    validation_data=val_ds,\n",
        "    epochs=epochs\n",
        ")"
      ],
      "metadata": {
        "colab": {
          "base_uri": "https://localhost:8080/"
        },
        "id": "d6DXUGCbZa7Z",
        "outputId": "386dd252-3d4c-41b2-f8bd-f8f46d522d0f"
      },
      "execution_count": 17,
      "outputs": [
        {
          "output_type": "stream",
          "name": "stdout",
          "text": [
            "Epoch 1/3\n",
            "625/625 [==============================] - 22s 21ms/step - loss: 0.5412 - accuracy: 0.6780 - val_loss: 0.3210 - val_accuracy: 0.8622\n",
            "Epoch 2/3\n",
            "625/625 [==============================] - 10s 16ms/step - loss: 0.2450 - accuracy: 0.9032 - val_loss: 0.3261 - val_accuracy: 0.8716\n",
            "Epoch 3/3\n",
            "625/625 [==============================] - 10s 16ms/step - loss: 0.1265 - accuracy: 0.9538 - val_loss: 0.3876 - val_accuracy: 0.8770\n"
          ]
        },
        {
          "output_type": "execute_result",
          "data": {
            "text/plain": [
              "<keras.callbacks.History at 0x7f23d362ff50>"
            ]
          },
          "metadata": {},
          "execution_count": 17
        }
      ]
    },
    {
      "cell_type": "code",
      "source": [
        "model.evaluate(test_ds)"
      ],
      "metadata": {
        "colab": {
          "base_uri": "https://localhost:8080/"
        },
        "id": "2IZf9IdmZa9x",
        "outputId": "b61d0371-82a4-4c72-d879-fa1d791f2912"
      },
      "execution_count": 18,
      "outputs": [
        {
          "output_type": "stream",
          "name": "stdout",
          "text": [
            "782/782 [==============================] - 10s 12ms/step - loss: 0.4102 - accuracy: 0.8614\n"
          ]
        },
        {
          "output_type": "execute_result",
          "data": {
            "text/plain": [
              "[0.41017910838127136, 0.8614400029182434]"
            ]
          },
          "metadata": {},
          "execution_count": 18
        }
      ]
    },
    {
      "cell_type": "code",
      "source": [
        "inputs = tf.keras.Input(shape=(1,), dtype=\"string\")\n",
        "indices = vectorize_layer(inputs)\n",
        "outputs = model(indices)\n",
        "\n",
        "\n",
        "end_to_end_model = tf.keras.Model(inputs, outputs)\n",
        "end_to_end_model.compile(\n",
        "    loss=\"binary_crossentropy\", optimizer=\"adam\", metrics=[\"accuracy\"]\n",
        ")\n",
        "\n",
        "# Test it with `raw_test_ds`, which yields raw strings\n",
        "end_to_end_model.evaluate(raw_test_ds)"
      ],
      "metadata": {
        "colab": {
          "base_uri": "https://localhost:8080/"
        },
        "id": "As031FJcZbJy",
        "outputId": "ec17e55f-554d-49c4-c625-3374a63b2ef3"
      },
      "execution_count": 19,
      "outputs": [
        {
          "output_type": "stream",
          "name": "stdout",
          "text": [
            "782/782 [==============================] - 11s 14ms/step - loss: 0.4102 - accuracy: 0.8614\n"
          ]
        },
        {
          "output_type": "execute_result",
          "data": {
            "text/plain": [
              "[0.4101795256137848, 0.8614400029182434]"
            ]
          },
          "metadata": {},
          "execution_count": 19
        }
      ]
    }
  ]
}