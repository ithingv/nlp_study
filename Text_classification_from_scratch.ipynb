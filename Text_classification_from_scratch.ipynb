{
  "nbformat": 4,
  "nbformat_minor": 0,
  "metadata": {
    "colab": {
      "name": "Text classification from scratch.ipynb",
      "provenance": [],
      "authorship_tag": "ABX9TyPnupNGWUocYcszvcMzfoQL",
      "include_colab_link": true
    },
    "kernelspec": {
      "name": "python3",
      "display_name": "Python 3"
    },
    "language_info": {
      "name": "python"
    },
    "accelerator": "GPU"
  },
  "cells": [
    {
      "cell_type": "markdown",
      "metadata": {
        "id": "view-in-github",
        "colab_type": "text"
      },
      "source": [
        "<a href=\"https://colab.research.google.com/github/ithingv/nlp_study/blob/main/Text_classification_from_scratch.ipynb\" target=\"_parent\"><img src=\"https://colab.research.google.com/assets/colab-badge.svg\" alt=\"Open In Colab\"/></a>"
      ]
    },
    {
      "cell_type": "code",
      "execution_count": 1,
      "metadata": {
        "id": "xymkFML0Jq2d"
      },
      "outputs": [],
      "source": [
        "import tensorflow as tf\n",
        "import numpy as np"
      ]
    },
    {
      "cell_type": "markdown",
      "source": [
        "# Load the data: IMDB movie review sentiment classification"
      ],
      "metadata": {
        "id": "vcHTOu9sLrkq"
      }
    },
    {
      "cell_type": "code",
      "source": [
        "!curl -O https://ai.stanford.edu/~amaas/data/sentiment/aclImdb_v1.tar.gz\n",
        "!tar -xf aclImdb_v1.tar.gz"
      ],
      "metadata": {
        "colab": {
          "base_uri": "https://localhost:8080/"
        },
        "id": "T4GDP1IwLjqw",
        "outputId": "48e45fdb-8bb1-45ac-badc-f87b7d01c459"
      },
      "execution_count": 2,
      "outputs": [
        {
          "output_type": "stream",
          "name": "stdout",
          "text": [
            "  % Total    % Received % Xferd  Average Speed   Time    Time     Time  Current\n",
            "                                 Dload  Upload   Total   Spent    Left  Speed\n",
            "100 80.2M  100 80.2M    0     0  9390k      0  0:00:08  0:00:08 --:--:-- 17.4M\n"
          ]
        }
      ]
    },
    {
      "cell_type": "code",
      "source": [
        "!ls aclImdb"
      ],
      "metadata": {
        "colab": {
          "base_uri": "https://localhost:8080/"
        },
        "id": "rDlqrZY9LqcA",
        "outputId": "cdd99636-1a8e-4582-a776-24a4f074c1a5"
      },
      "execution_count": 3,
      "outputs": [
        {
          "output_type": "stream",
          "name": "stdout",
          "text": [
            "imdbEr.txt  imdb.vocab\tREADME\ttest  train\n"
          ]
        }
      ]
    },
    {
      "cell_type": "code",
      "source": [
        "!ls aclImdb/test"
      ],
      "metadata": {
        "colab": {
          "base_uri": "https://localhost:8080/"
        },
        "id": "Usqk084zT_Ig",
        "outputId": "07a408c4-fab6-4152-ea72-6a1c90485dfa"
      },
      "execution_count": 4,
      "outputs": [
        {
          "output_type": "stream",
          "name": "stdout",
          "text": [
            "labeledBow.feat  neg  pos  urls_neg.txt  urls_pos.txt\n"
          ]
        }
      ]
    },
    {
      "cell_type": "code",
      "source": [
        "!ls aclImdb/train"
      ],
      "metadata": {
        "colab": {
          "base_uri": "https://localhost:8080/"
        },
        "id": "obNhtFV5UMeJ",
        "outputId": "5408ab16-464d-4e5a-886f-abfab3c59a05"
      },
      "execution_count": 5,
      "outputs": [
        {
          "output_type": "stream",
          "name": "stdout",
          "text": [
            "labeledBow.feat  pos\tunsupBow.feat  urls_pos.txt\n",
            "neg\t\t unsup\turls_neg.txt   urls_unsup.txt\n"
          ]
        }
      ]
    },
    {
      "cell_type": "code",
      "source": [
        "!cat aclImdb/train/pos/6248_7.txt"
      ],
      "metadata": {
        "colab": {
          "base_uri": "https://localhost:8080/"
        },
        "id": "xPYqMuJ_UMgk",
        "outputId": "ddc47c03-5359-452d-d7f3-959b392b6d8f"
      },
      "execution_count": 6,
      "outputs": [
        {
          "output_type": "stream",
          "name": "stdout",
          "text": [
            "Being an Austrian myself this has been a straight knock in my face. Fortunately I don't live nowhere near the place where this movie takes place but unfortunately it portrays everything that the rest of Austria hates about Viennese people (or people close to that region). And it is very easy to read that this is exactly the directors intention: to let your head sink into your hands and say \"Oh my god, how can THAT be possible!\". No, not with me, the (in my opinion) totally exaggerated uncensored swinger club scene is not necessary, I watch porn, sure, but in this context I was rather disgusted than put in the right context.<br /><br />This movie tells a story about how misled people who suffer from lack of education or bad company try to survive and live in a world of redundancy and boring horizons. A girl who is treated like a whore by her super-jealous boyfriend (and still keeps coming back), a female teacher who discovers her masochism by putting the life of her super-cruel \"lover\" on the line, an old couple who has an almost mathematical daily cycle (she is the \"official replacement\" of his ex wife), a couple that has just divorced and has the ex husband suffer under the acts of his former wife obviously having a relationship with her masseuse and finally a crazy hitchhiker who asks her drivers the most unusual questions and stretches their nerves by just being super-annoying.<br /><br />After having seen it you feel almost nothing. You're not even shocked, sad, depressed or feel like doing anything... Maybe that's why I gave it 7 points, it made me react in a way I never reacted before. If that's good or bad is up to you!"
          ]
        }
      ]
    },
    {
      "cell_type": "code",
      "source": [
        "!rm -r aclImdb/train/unsup"
      ],
      "metadata": {
        "id": "lQOL8YScUMi6"
      },
      "execution_count": 7,
      "outputs": []
    },
    {
      "cell_type": "code",
      "source": [
        "batch_size = 32\n",
        "raw_train_ds = tf.keras.preprocessing.text_dataset_from_directory(\n",
        "    \"aclImdb/train\",\n",
        "    batch_size=batch_size,\n",
        "    validation_split=0.2,\n",
        "    subset=\"training\",\n",
        "    seed=2020,\n",
        ")\n",
        "raw_val_ds = tf.keras.preprocessing.text_dataset_from_directory(\n",
        "    \"aclImdb/train\",\n",
        "    batch_size=batch_size,\n",
        "    validation_split=0.2,\n",
        "    subset=\"validation\",\n",
        "    seed=2020,\n",
        ")\n",
        "raw_test_ds = tf.keras.preprocessing.text_dataset_from_directory(\n",
        "    \"aclImdb/test\", batch_size=batch_size\n",
        ")"
      ],
      "metadata": {
        "colab": {
          "base_uri": "https://localhost:8080/"
        },
        "id": "G-7Fh13mUMlT",
        "outputId": "10e6569c-14c3-4ef6-b634-5a4b9c3dd9e3"
      },
      "execution_count": 8,
      "outputs": [
        {
          "output_type": "stream",
          "name": "stdout",
          "text": [
            "Found 25000 files belonging to 2 classes.\n",
            "Using 20000 files for training.\n",
            "Found 25000 files belonging to 2 classes.\n",
            "Using 5000 files for validation.\n",
            "Found 25000 files belonging to 2 classes.\n"
          ]
        }
      ]
    },
    {
      "cell_type": "code",
      "source": [
        "print(f\"Number of batches in raw_train_ds: {raw_train_ds.cardinality()}\")\n",
        "print(f\"Number of batches in raw_val_ds: {raw_val_ds.cardinality()}\")\n",
        "print(f\"Number of batches in raw_test_ds: {raw_test_ds.cardinality()}\")\n"
      ],
      "metadata": {
        "colab": {
          "base_uri": "https://localhost:8080/"
        },
        "id": "aVbfIKaCUMnz",
        "outputId": "4de491c0-088a-490c-a977-6d337cbdb5d9"
      },
      "execution_count": 9,
      "outputs": [
        {
          "output_type": "stream",
          "name": "stdout",
          "text": [
            "Number of batches in raw_train_ds: 625\n",
            "Number of batches in raw_val_ds: 157\n",
            "Number of batches in raw_test_ds: 782\n"
          ]
        }
      ]
    },
    {
      "cell_type": "code",
      "source": [
        "for text_batch, label_batch in raw_train_ds.take(1):\n",
        "    for i in range(5):\n",
        "        print(text_batch.numpy()[i])\n",
        "        print(label_batch.numpy()[i])"
      ],
      "metadata": {
        "colab": {
          "base_uri": "https://localhost:8080/"
        },
        "id": "nAxNWC12UMqe",
        "outputId": "afe88213-bc11-4699-f610-3acbd0dbee7b"
      },
      "execution_count": 10,
      "outputs": [
        {
          "output_type": "stream",
          "name": "stdout",
          "text": [
            "b\"This is one of the best movies I've ever seen. It has very good acting by Hanks, Newman, and everyone else. Definitely Jude Law's best performance. The cinematography is excellent, the editing is about as good, and includes a great original score that really fits in with the mood of the movie. The production design is also a factor in what makes this movie special. To me, it takes a lot to beat Godfather, but the fantastic cinematography displayed wins this contest. Definitely a Best Picture nominee in my book.\"\n",
            "1\n",
            "b\"New York, I Love You, or rather should-be-titled Manhattan, I Love Looking At Your People In Sometimes Love, is a precise example of the difference between telling a story and telling a situation. Case in point, look at two of the segments in the film, one where Ethan Hawke lights a cigarette for a woman on a street and proceeds to chat her up with obnoxious sexy-talk, and another with Orlando Bloom trying to score a movie with an incredulous demand from his director to read two Dostoyevsky books. While the latter isn't a great story by any stretch, it's at least something that has a beginning, middle and end, as the composer tries to score, gets Dostoyevky dumped in his lap, and in the end gets some help (and maybe something more) from a girl he's been talking to as a liaison between him and the director. The Ethan Hawke scene, however, is like nothing, and feels like it, like a fluke added in or directed by a filmmaker phoning it in (or, for that matter, Hawke with a combo of Before Sunrise and Reality Bites).<br /><br />What's irksome about the film overall is seeing the few stories that do work really well go up against the one or two possible 'stories' and then the rest of the situations that unfold that are made to connect or overlap with one another (i.e. bits involving Bradley Cooper, Drea DeMatteo, Hayden Christensen, Andy Garcia, James Caan, Natalie Portman, etc). It's not even so much that the film- set practically always in *Manhattan* and not the New York of Queens or Staten Island or the Bronx (not even, say, Harlem or Washington Heights)- lacks a good deal of diversity, since there is some. It's the lack of imagination that one found in spades, for better or worse, in Paris J'taime. It's mostly got little to do with New York, except for passing references, and at its worst (the Julie Christie/Shia LaBeouf segment) it's incomprehensible on a level that is appalling.<br /><br />So, basically, wait for TV, and do your best to dip in and out of the film - in, that is, for three scenes: the aforementioned Bloom/Christina Ricci segment which is charming; the Brett Ratner directed segment (yes, X-Men 3 Brett Ratner) with a very funny story of a teen taking a girl in a wheelchair to the prom only to come upon a great big twist; and Eli Wallach and Cloris Leachman as an adorable quite old couple walking along in Brooklyn on their 67th wedding anniversary. Everything else can be missed, even Natalie Portman's directorial debut, and the return of a Hughes brother (only one, Allan) to the screen. A mixed bag is putting it lightly: it's like having to search through a bag of mixed nuts full of crappy peanuts to find the few almonds left.\"\n",
            "0\n",
            "b'Was convincing the world that he didn\\'t exist...<br /><br />This is a line that is probably remembered by a lot of people. It\\'s from The Usual Suspects of course in relation to Kaiser Gold..I mean Sose..<br /><br />I got another one like that: -The dumbest trick a director ever pulled was trying to convince an audience he actually had a storyline-<br /><br />This movie is one of the saddest pieces of film-making I have seen in a long time. It starts out so well, with really fantastic cinematography, great acting and a very smart premise. But alas, the only way this movie is heading is on a course of self-destruction. And it does so, not by a single blow but with nagging little wrist-cuts.<br /><br />Pay no attention to the comments here that marvel at the fact that they found a way to explain this donut. With enough booze in my brain I would probably be capable of explaining the very existence of mankind to a very plausible degree. I have seen and read about a dozen totally different ways people explained the story. And they vary from a story set totally in someones head, playing chess with himself, to a cunning way for a criminal to play out his enemies by means resembling chess gaming.<br /><br />And that\\'s all jolly swell. But at the same time it is a painful giveaway that there is something terribly wrong with this story. And apart from that, it is in any case a blunt rip off of a score of movies and books like \"Fight Club, Kill Bill, Casino, The Usual Suspects, Snatch, Magnolia and Shachnovelle. And we are not dealing with kind borrowing here, it\\'s a blatant robbery.<br /><br />What ultimately goes wrong here in this movie is that the storyline swirls like a drunk bum on speed. If this movie was a roller-coaster ride, you\\'d have crashed into the attraction next to it shorty after take off. There are so many twists in this movie which will never be resolved, that if it was a cocktail, you\\'d be needing a life supply of hurl-buckets to work of the nausea after drinking it. Nothing is ever explained and when you finally get some grasp of the direction you think it\\'s going, you get pulled in yet another one.<br /><br />I guess this story wasn\\'t going anywhere on paper and Ritchy must have thought that is was awesome to make a movie out of it anyway, being the next David Lynch or something.<br /><br />1/10 for totally violating one\\'s own work (Ritchy: seek professional help). What could have easily been a gem instead becomes a contrived art-piece, food for pseudo intellectuals to debate on at sundayafternoon debating-clubs. <br /><br />Spare your soul and stomach, avoid at all cost!'\n",
            "0\n",
            "b'When Sam Peckinpah\\'s superlative THE WILD BUNCH (1969) opened the door to outrageous displays of graphic cinematic ultra-violence, it did so with a talented (if whisky-marinated) hand guiding the camera and had a compelling story with characters who had actual depth, but in no time flat there were scores of imitators that fell far from the benchmark set by Peckinpah\\'s epic, and SOLDIER BLUE definitely falls into that category.<br /><br />SOLDIER BLEW, er, BLUE tells the story of foul-mouthed New Yorker Cresta Lee (Candice Bergen) a blonde proto-hippie chick who\\'s been \"rescued\" from two years of \"captivity\" among the Cheyenne and is now being sent to a fort where she\\'ll be reunited with the fianc\\xc3\\xa9e she only wants to marry for his money. Also on board the wagon she\\'s traveling in is a shipment of government gold, cash the Cheyenne need to buy guns with, so in short order the soldiers are wiped out and Cresta flees to the hills, accompanied by Honus Gant (Peter Strauss), the lone surviving cavalryman. Calling Gant by the snarky nickname \"Soldier Blue,\" Cresta demonstrates that her years among the \"savages\" was time well spent, outstripping Gant in survival skills, common sense, and sheer balls, and over their journey toward the fort they must persevere against the elements, a band of hostile Kiowa, an unscrupulous trader \\xc2\\x97 played by Donald Pleasance, here giving one of his most ridiculous performances, and that\\'s saying something \\xc2\\x97 and, in the tradition of many previous western-set romantic comedies, each other.<br /><br />During the course of their misadventures the two opposites are inevitably \\xc2\\x97 and predictably \\xc2\\x97 attracted to each other and eventually end up getting it on \\xc2\\x97 while Gant has a freshly- treated bullet wound that went clean through his leg, no less \\xc2\\x97 in what was surely the only conveniently located cave for at least a twelve mile radius that wasn\\'t filled with rattlesnakes, mountain lions, or who knows what, to say nothing of the Cheyenne, who could have done something really spiffy with such a primo apartment (there I go, thinking in NYC real estate terms again). <br /><br />Realizing that their love could never flourish outside of the cave, Cresta leaves Gant and makes it to the fort by herself only to discover that the moron in charge won\\'t spare a couple of men so they can rescue Gant; the regiment needs all available personnel to launch an attack on the nearby Cheyenne village, and once Cresta gets wind of that she slips past her obnoxiously horny hubby-to-be and makes a beeline straight to the Cheyenne to warn them of what\\'s coming. <br /><br />What happens next is what gained the film its infamy; it turns out that all the wacky misadventures and squabbling were all just a lead-in to a hideous reenactment of the 1864 Sand Creek Massacre, an orgy of rape, torture and general sadistic evil perpetrated in the name of \"keeping the country clean,\" and almost forty years after its release this sequence still disturbs and nauseates for its sheer cruelty. Children are trampled beneath the hooves of charging horses or impaled on bayonets, unarmed people are beheaded \\xc2\\x97 a nice effect, I have to admit \\xc2\\x97 women are stripped and pawed by gangs of slavering brutes, then raped and mutilated \\xc2\\x97 in one truly sickening instance a naked native woman puts up too much of a fight, so her rapist instead decides to cut off her breasts, which we thankfully only see the start of before the camera moves on to chronicle some other hideous act \\xc2\\x97 and scores of innocent people are shot and dismembered, their compone nt parts impaled on pikes and waved about in victorious celebration or kept as the most ghoulish of souvenirs. No joke, this scene would instantly garner an NC-17 rating if released today, to say nothing of possibly spurring Native American interest groups to riot in the streets over the incredibly exploitative manner in which the atrocities are depicted.<br /><br />I\\'m all in favor of westerns that don\\'t shy away from honest portrayals of how the west was won, or stolen if truth be told, but this film has no idea of what kind of movie it wants to be; one minute it\\'s a heavy-handed pseudo-hippy lecture about how the treatment of the natives was totally effed up (well, DUH!), then it\\'s a light-hearted battle of the sexes farce wherein Cresta proves herself five times the man Gant is and manages to look hot in her tasty red calico poncho (with no undies), but that all goes out the window when Donald Pleasance shows up with an unintentionally (?) hilarious pair of buck-toothed dentures and our heroes must figure out how to escape from his murderous clutches in a sub-plot that goes nowhere, all of which culminates in the aforementioned apocalyptic climax. Any one of those tacks would have been okay for a coherent film, but the end result is a slapdash mess that milked the horrors of its final ten minutes for all they were worth in the film\\'s promotion and poster imagery. <br /><br />But by trying to be all things to all audiences, SOLDIER BLUE ends up as an incoherent, preachy Mulligan stew of presumably well-intentioned political correctness, but if they were going to tell the story of the Sand Creek Massacre, wouldn\\'t it have been a good idea to have some Indian characters who were more than just walk-ons with Murphy Brown acting as their mouthpiece? We get to know absolutely nothing of the people who get wiped out solely for what appears to be a crass ploy to lure gorehound moviegoers into seeing \"the most savage film in history.\" If you, like me, were intrigued by the provocative ads and reviews that shower almost endless praise upon it for its \"daring to tell it like it was,\" take my word for it and let SOLDIER BLUE slowly fade into cinematic obscurity.'\n",
            "0\n",
            "b\"I have been waiting for such an original picture such as this for quite some time now. Brokedown Palace has that `hard to believe' aspect, however with the ingenious directing, and screenplay, \\xc2\\x91Palace scores big. <br /><br /> I've really never enjoyed watching Claire Danes in any of her movies, but I'll tell you what, she really changed my mind with this one. Kate Beckinsale joins Danes on a vacation to Thailand where they meet up with a young man who convinces them to take a trip to Hong Kong with him. However, he neglected to inform them that they would be carrying an obscene amount of narcotics for him. Well, ultimately they get caught, and end up in a Thailand prison. I know, I know, how could you not know that you have 18 pounds of drugs? Well if you can get by that one tiny miscue, you will find a very well written, and acted out story. Lately I have found myself getting drawn into the storylines of the movies I watch, and developing a personal feeling for the characters that I watch. This movie is no different. By the end of the movie I found myself caring more for her than any of the other characters in the film. <br /><br /> Bill Pullman plays Hank Green, an attorney who lives in Thailand and specializes in international relations. As always Pullman delivers with an excellent performance and ties the movie together beautifully. <br /><br /> There are a few twists and turns that will, by the end of the movie, have you in tears. This is one of those movies that you have most likely passed by when searching for that movie to watch at home. It is my opinion that the next time out at the video store, do not pass by this one again.\"\n",
            "1\n"
          ]
        }
      ]
    },
    {
      "cell_type": "markdown",
      "source": [
        "# Prepare the data"
      ],
      "metadata": {
        "id": "liNusc7HWJrS"
      }
    },
    {
      "cell_type": "code",
      "source": [
        "# remove <br /> tags\n",
        "from tensorflow.keras.layers import TextVectorization\n",
        "import string\n",
        "import re\n",
        "\n",
        "pattern = \"<[^>]+>\"\n",
        "tf.strings.regex_replace(\"Text with tags.<br /><b>contains html</b>\", pattern, \" \")"
      ],
      "metadata": {
        "colab": {
          "base_uri": "https://localhost:8080/"
        },
        "id": "sGOLrJOXUMsq",
        "outputId": "795efeea-0730-4cc5-9509-4a0ad9c3296f"
      },
      "execution_count": 11,
      "outputs": [
        {
          "output_type": "execute_result",
          "data": {
            "text/plain": [
              "<tf.Tensor: shape=(), dtype=string, numpy=b'Text with tags.  contains html '>"
            ]
          },
          "metadata": {},
          "execution_count": 11
        }
      ]
    },
    {
      "cell_type": "code",
      "source": [
        "def custom_standardization(input_data):\n",
        "    lowercase = tf.strings.lower(input_data)\n",
        "    stripped_html = tf.strings.regex_replace(lowercase, pattern, \" \")\n",
        "    return tf.strings.regex_replace(stripped_html, f\"[{re.escape(string.punctuation)}]\", \"\")"
      ],
      "metadata": {
        "id": "RRoQJpC3UMvD"
      },
      "execution_count": 12,
      "outputs": []
    },
    {
      "cell_type": "code",
      "source": [
        "# Model constants\n",
        "\n",
        "max_features = 20000\n",
        "embedding_dim = 128\n",
        "sequence_length = 500"
      ],
      "metadata": {
        "id": "fZCW39R6YHBf"
      },
      "execution_count": 13,
      "outputs": []
    },
    {
      "cell_type": "code",
      "source": [
        "vectorize_layer = TextVectorization(\n",
        "    max_tokens = max_features,\n",
        "    standardize = custom_standardization,\n",
        "    output_mode = \"int\",\n",
        "    output_sequence_length = sequence_length\n",
        ")\n",
        "\n",
        "# vocab layer has been created, call `adapt` on a text-only\n",
        "# dataset to create the vocabulary. You don't have to batch, but for very large\n",
        "# datasets this means you're not keeping spare copies of the dataset in memory.\n",
        "\n",
        "text_ds = raw_train_ds.map(lambda x, y: x) # no labels\n",
        "vectorize_layer.adapt(text_ds)"
      ],
      "metadata": {
        "id": "xG9G0H_qZash"
      },
      "execution_count": 14,
      "outputs": []
    },
    {
      "cell_type": "code",
      "source": [
        "# batch_size = 32\n",
        "for train_dataset in raw_train_ds.take(1):\n",
        "    print(train_dataset[0].numpy())"
      ],
      "metadata": {
        "colab": {
          "base_uri": "https://localhost:8080/"
        },
        "id": "KiudiZzVpatb",
        "outputId": "9335ca1a-d1c1-4280-90b8-7ff623a6be4f"
      },
      "execution_count": 15,
      "outputs": [
        {
          "output_type": "stream",
          "name": "stdout",
          "text": [
            "[b'Apparently none of the previous reviewers,most of whom praise the film for its accuracy, have actually read a biography of Louis Pasteur.The most glaring inaccuracy is in the relationship between Pasteur and Napoleon III.Back in the 1930\\'s the latter was invariably shown in a bad light.While far from an admirable character-he was an inept politician and a self-appointed \"military genius\" who allowed France to be dragged into a disastrous war,he was not the stupid reactionary depicted here. He had an intelligent interest in science,and like many other people in the 19th century saw a bright future because of the improvements it would bring.Far from exiling Pasteur, he was his PATRON,building him a laboratory and providing him with all the resources that he needed for his research.While the lab was under construction, Pasteur became gravely ill.A bureaucrat, deciding it was a waste of money to build a laboratory for someone who would soon be dead, ordered work halted on his own authority.When the emperor heard about this, his outrage shook the bureaucracy so that there was a flurry of buck-passing, and work promptly resumed.The Emperor personally visited Pasteur to comfort him and reassure him that he would get his lab.The emperor would often bring members of his court to admire Pasteur\\'s projects,and it was obvious to everyone that Pasteur was one of the emperor\\'s favorites.Pasteur\\'s main worry concerning the Emperor was that Napoleon thought Pasteur was virtually a miracle worker who could do almost anything, and was constantly assigning him tasks outside of his previous experience.Pasteur, a very modest man, was always protesting this, but Napoleon would say that he had complete faith in him,and Pasteur despite his misgivings, always came through.They always had a close and friendly relationship,and after the Emperor was overthrown, Pasteur refused to say a bad word about him,grateful to the end of his life.<br /><br />The part about his daughter having the baby, and Pasteur sacrificing his principles to get a doctor, never happened.The part about the anthrax and rabies, for which he was famous, is generally correct, but the notion that the anthrax experiment raised him from obscurity to fame is false.He was famous and respected at the time this happened.This movie is OK from a dramatic standpoint,but very distorted as biography.'\n",
            " b'\"The Lion King\" is without a doubt my favorite Disney movie of all time, so I figured maybe I should give the sequels a chance and I did. Lion King 1 1/2 was pretty good and had it\\'s good laughs and fun with Timon and Pumba. Only problem, I feel sometimes no explanations are needed because they can create plot holes and just the feeling of wanting your own explanation. Well, I would highly recommend this movie for lion King fans or just a night with the family. It\\'s a fun flick with the same laughs and lovable characters as the first. So, hopefully, I\\'ll get the same with the third installment to the Lion King series. Sit back and just think Hakuna Matata! It means no worries! <br /><br />8/10'\n",
            " b'Michael Bowen plays an innocentish young man who hitchhikes a thousand miles to visit his absentee millionaire father (the creepy Ray Wise) at a sprawling, windmill-powered ranch and ends up tangled in the dangerous web of his young, scheming and seductive stepmother from hell (the yummy Clare Wren), thus causing trouble for the already dysfunctional family. An edgy, stylish and exciting drama that received no promotion and was sent straight to VHS and cable TV--where I first saw it. It is beautifully written, smartly acted, and tightly directed from a script that keeps you biting your nails. I cannot believe the reviewers who disliked it ever actually saw it. It is an undiscovered classic.'\n",
            " b\"Whoever wrote the screenplay for this movie obviously never consulted any books about Lucille Ball, especially her autobiography. I've never seen so many mistakes in a biopic, ranging from her early years in Celoron and Jamestown to her later years with Desi. I could write a whole list of factual errors, but it would go on for pages. In all, I believe that Lucille Ball is one of those inimitable people who simply cannot be portrayed by anyone other than themselves. If I were Lucie Arnaz and Desi, Jr., I would be irate at how many mistakes were made in this film. The filmmakers tried hard, but the movie seems awfully sloppy to me.\"\n",
            " b\"I'd heard of Eddie Izzard, but had never seen him in action. I knew he was a transvestite, and when I saw he was on HBO one night last summer, I put it on, not knowing how my husband would react. Well, he blew us away. He's better than Robin Williams ever was. He has total control of the audience; when he does the 'Englebert is dead - no he's not', routine, the audience doesn't know what to think by the end. God as James Mason is also an inspired touch, and his version of the Python Spanish Inquisition as carried out by the Church of England - 'Cake or Death?' is priceless. My jaws were aching from laughter by the end of the show. We scoured the TV listings for months after that to be able to see him again, and were lucky enough to tape him the next time he came on. If you get the chance to see this show, cancel everything and tape it, you won't be disappointed.\"\n",
            " b'December holiday specials, like the original Frosty, ought to be richly-produced with quality music and a wholesome, yet lighthearted storyline. They should have a touch of the mystical magic of the holidays. Basically, they should look, sound, and feel...well, \"special\" and they should have a decent and appropriate December holiday subtext.<br /><br />So when I saw Legend of Frosty the Snowman in the TV listings, I got my kids (6 and 8) pumped up for it by telling them the story of the original Frosty and passionately relating how much I enjoyed it as a kid. As my wife and kids cozied up on the couch to watch the movie the expectations were high, but 10 minutes into it my kids were yawning and my wife and I were giving each other \"the look\" and rolling our eyes. After 35 minutes my kids were actually asking to go to bed -- I guess they were fed up with the insensitive language and pointless, disconnected segments. I was actually embarrassed about their (and my) disappointment with this movie.<br /><br />Unfortunately, Legend of Frosty the Snowman is more like a bad episode of Fairly Odd Parents crossed with a worse-than-normal episode of Sponge Bob than a classic holiday movie. Don\\'t get me wrong...those shows are fine and I like them as much as the next guy, but when I watch Fairly Odd Parents or Sponge Bob, my low expectations (for mediocre, off-color, zero subtext, mind numbing episodes) are always satisfied.<br /><br />We picked out some good books and spent the rest of the evening reading together. A much better choice than the embarrassingly bad Legend of Frosty the Snowman.'\n",
            " b'I am a big fan of Stephen King\\'s work, and this film has made me an even greater fan of King. Pet Sematary is about the Creed family. They have just moved into a new house, and they seem happy. But there is a pet cemetery behind their house. The Creed\\'s new neighbor Jud (played by Fred Gwyne) explains the burial ground behind the pet cemetery. That burial ground is pure evil. Jud tells Louis Creed that when you bury a human being (or any kind of pet) up in the burial ground, they would come back to life. The only problem, is that when they come back, they are NOT the same person, they\\'re evil. Soon after Jud explains everything about the Pet Sematary, everything starts to go to hell. I wont explain anymore because I don\\'t want to give away some of the main parts in the film. The acting that Pet Sematary had was pretty good, but needed a little bit of work. The story was one of the main parts of this movie, mainly because it was so original and gripping. This film features lots of make-up effects that make the movie way more eerie, and frightening. One of the most basic reasons why this movie sent chills up my back, was in fact the make-up effects. There is one character in this film that is truly freaky. That character is \"Zelda.\" This particular character pops up in the film about three times to be precise. Zelda is Rachel Creed\\'s sister who passed away years before, but Rachel is still haunted by her. The first time Zelda appears in the movie isn\\'t generally scary because she isn\\'t talking or anything, but the second time is the worst, and to be honest, the second time scares the living **** out of me. There is absolutely nothing wrong with this movie, it is almost perfect. Pet Sematary delivers great scares, some pretty good acting, first rate plot, and mesmerizing make-up. This is truly one of most favorite horror films of all time. 10 out of 10.'\n",
            " b'Rented and watched this short (< 90 minutes) work. It\\'s by far the best treatment Modesty has received on film -- and her creator, Peter O\\'Donnell, agrees, participating as a \"Creative Consultant.\" The character, and we who love her, are handled with respect. Spiegel\\'s direction is the best he\\'s done to date, and the casting was very well done. Alexandra Staden is almost physically perfect as a match to the original Jim Holdaway illustrations of Modesty. A terrific find by whoever cast her! Raymond Cruz as a young Rafael Garcia was also excellent. I hope that Tarantino & co. will go on to make more in the series -- I\\'m especially interested to see whom they\\'d choose to be the incomparable Willie Garvin!'\n",
            " b\"**Possible Spoilers**<br /><br />This straight-to-video mess combines a gun-toting heroine, grade-Z effects, nazis, a mummy and endless lesbian footage and it's still boring; the video's 45 minute running time only SEEMS like Eternity.The only good part is one of the blooper outtakes, wherein the bad guys force a 400-pound Egyptologist into a chair--and one villain's foot almost gets crushed under a chair leg. Take this snoozer back to the video store and watch televised golf, bowling or tennis instead.\"\n",
            " b'I\\'m really tempted to reward \"The Case of the Scorpion\\'s Tail\" with a solid 10 out of 10 rating, but that would largely be because I think Italian horror cinema of the 1970\\'s is SO much better than the cheesy crap I usually watch. But even without an extra point for nostalgia, this is STILL a genuine masterwork and earning a high rating for its excellently convoluted story, uncanny atmosphere, blood-soaked killing sequences and superb casting choices. In my humble opinion this is actually Sergio Martino\\'s finest giallo, and that has got to mean something, as \"The Strange Vice of Mrs. Wardh\", \"All the Colors of the Dark\", \"Torso\" and \"Your Vice is a Locked Room and only I have the Key\" are all top-notch genre achievements as well. But this film is just a tad bit superior with its ultra-compelling plot revolving on an insurance fraud gone madly out of control. Following her husband\\'s peculiar death in a plane explosion (!), Lisa Baumer promptly becomes the suspicious owner of one million dollars and she\\'s eager to leave the country as soon as possible. Due to the bizarre circumstances, the insurance company puts their best investigator Peter Lynch on the case and he follows her to Greece. There, Lisa becomes the target of many assaults and the case\\'s mysteriousness increases when it turns out several people are hunting for the money. I\\'m always overly anxious when briefly summarizing gialli because I don\\'t want to risk giving away essential plot elements. In \"The Case of the Scorpion\\'s Tail\", the events take an abrupt and totally unexpected turn before the story is even halfway, and I certainly don\\'t want to ruin this for you. Many red herrings follow after that, but Sergio Martino always succeeds to stay one step ahead of you and, even though not a 100% satisfying, the denouement is at least surprising. It\\'s also a very stylish film, with imaginative camera-work and excellent music by Bruno Nicolai. Everyone\\' s favorite giallo muse Edwige Fenech oddly didn\\'t make it to this cast (she stars in no less than 3 other supreme Martino gialli), but Anita Strindberg (\"Lizard in a Woman\\'s Skin\", \"Who Saw Her Die?\") is a more than worthy replacement for her. The charismatic and hunky George Hilton is reliable as always in his role of insurance investigator and \\xc2\\x96 duh \\xc2\\x96 ladies\\' man deluxe. If you\\'re a fan of giallo, don\\'t wait as long as I did to WATCH THIS FILM!!!!'\n",
            " b'Good action show, but nothing new. This one took place high in the mountains, which showed some nice scenery and such. One man takes on a group of mercenaries, the lead flies, and he kicks butt. It could have been called \"Rambo Goes to the Rockies\", it was that pat. It did have one very effective scene right at the first of the film which had me cringing in horror. Not a bad picture, but just same ol\\', same ol\\'.'\n",
            " b\"What a fascinating film. Even if it wasn't based on real life, Forbidden Lies was a fascinating portrait of a con artist in her element. And it is the kind of film psychology students could study to learn about compulsive liars.<br /><br />The author of Forbidden Love, Norma, was revealed as a fraud in the media but this move really does give her ample opportunity to clear her name.<br /><br />But the twists and turns she takes the documentary maker through are amazing. What a patient woman! I loved this movie. I have not read the book but simply heard good reviews and went to see it on boring rainy afternoon. The journey this film takes you on is clever, interesting and totally engrossing.\"\n",
            " b\"Robert A. Heinlein's classic novel Starship Troopers has been messed around with in recent years, in everything to Paul Verhoeven's 1997 film to a TV series, to a number of games. But none of these, so to speak, has really captured the spirit of his novel. The games are usually unrelated, the TV series was more of a spin off, and the less said about Verhoeven's film, the better. Little do most know, however, that in Japan, an animated adaptation had already been done, released the year of Heinlein's death. And, believe it or not, despite its differences, this 6-part animated series is, plot-wise, the most faithful adaptation of Heinlein's classic.<br /><br />The most obvious plus to this series is the presence of the powered armor exoskeletons, something we were deprived of in Verhoeven's film. Like the book, the series focuses more on the characters and their relationships than on action and space travel, though we see a fair amount of each. While events happen differently than in the book, the feel of the book's plot is present. Rico and Carmen have a romantic entanglement, but it's only slightly more touched upon than in the book. While some may believe the dialogue and character interaction to be a bit inferior to the book (it gets a bit of the anime treatment, but what did you expect?), but it's far superior to the film. Heinlein's political views are merely excised, as opposed to the film, where they are reversed. The big payoff of the series, however, is the climatic battle on Klendathu between the troopers and the bugs/aliens, which features the kind of action from the powered armor suits we would have like to have seen in a film version.<br /><br />Overall, I enjoyed this series because I wanted to see a vision closer to that of Heinlein. And I think they did pretty well with this. If you can find this series, give it a look.\"\n",
            " b'It is not known whether Marilyn Monroe ever met and spoke with Albert Einstein (and since the mysterious disappearance of her diary after her equally mysterious death, we may never know), but in their lifetime the opportunity was there.<br /><br />Scripted by Terry Johnson from his own play, Nicolas Roeg\\'s Insignificance imagines an encounter in a New York hotel room one night in 1953 between the two icons plus Joe DiMaggio (Busey), and Senator Joseph McCarthy (Curtis) - but only on one level. On another level, it elevates - or reduces - these \\'personalities\\' (and what a lousy phrase that is) to mere avatars (the characters are deliberately unnamed), at once greater and lesser in status.<br /><br />The title Insignificance is both apposite and deeply ironic; here, DiMaggio\\'s net worth has been reduced to little more than a picture on a bubblegum card. Monroe too is reduced to her constituent parts of dress, hair, lipstick, wiggle and voice. By uncovering their insecurities and reversing their roles, the film brings into sharp focus received notions of celebrity, exploding the cult of personality.<br /><br />Furthering the theme, there will be another explosion at the film\\'s climax: Hiroshima in a hotel suite, in which \\'The Actress\\' is burned to a cinder in seconds; a literal deconstruction of fame. Goodbye, Norma Jean. History informs the script, which in turn, shakes history upside down. As Roeg mused after watching Johnson\\'s play for the first time, \"These characters were mythic, not invented by any single person, not the public or the press, probably not even by the characters themselves.\" As played by Theresa Russell, Marilyn (a closet intellectual in real life), lectures a childlike Einstein (\\'The Professor\\', played by Emil) on the theory of relativity using balloons and a flashlight, while getting The Professor to show off his legs, in conscious parody of her own role in The Seven-Year Itch, the movie The Actress is seen to be working on in the film\\'s opening.<br /><br />History records that Monroe\\'s then-husband, fading baseball star DiMaggio (played by Busey as a tenderly psychotic simpleton), was unhappy about her iconic dress-splaying scene in the film, precipitating their break-up. Right on cue, we discover the jealous \\'Ballplayer\\' in a bar, bemoaning the fact that if, \"I want to see her underwear, I just walk down to the corner like all the other guys\".<br /><br />In contrast to The Professor, The Ballplayer believes the universe is round - a contention shared by Native Americans. But the Big Chief (Sampson, of One Flew Over The Cuckoo\\'s Nest fame) who operates the Roosevelt Hotel\\'s elevator has been all but disenfranchised from his own culture: \"I no longer Cherokee - I watch TV.\" Meanwhile, \\'The Senator\\' is investigating The Professor, who is on the eve of delivering a pacifist speech to the United Nations, but whom The Senator suspects is a Red. In fact, as he divulges to Monroe, Einstein is wracked with guilt over Hiroshima, and what the white heat future holds. Yet in a seemingly godless universe, all such worries and aspirations are rendered insignificant in the light of a higher (atomic) power.<br /><br />Roeg really is the perfect director to bring Johnson\\'s stage play to the screen. Throughout, tortured childhood flashbacks and pessimistic flash-forwards (ka-boom!) draw unexpected connections between time, place and circumstance, with the repeated visual motif of a wristwatch employed to mark time\\'s passing - but perhaps also to suggest all time is one time; each moment co-existing. As evinced by his back catalogue, it\\'s something of a hobbyhorse for a director enchanted with the notion of synchronicity - see Don\\'t Look Now in particular. Here, 1920 bleeds into 1945 and drip-feeds into the 1980s, a period in which another \\'Actor\\' has taken on his greatest role as the President of the United States.<br /><br />If all this sounds rather heavy going (quantum physics is surely involved), the execution is anything but, owing to Johnson\\'s witty, zippy screenplay, Roeg\\'s playful direction, opening out an essentially stagey set-up - and the cast themselves, who are on stellar form. Tony Curtis especially leaves denture marks in the wood panelling as the paranoid, impotent Senator, who is seen attempting congress with a Monroe impersonator (a real one, as opposed to Russell\\'s), before being let down by his dwindling member.<br /><br />Of course, Curtis once co-starred with the real Marilyn Monroe in Some Like It Hot, and whose embrace he memorably described as like \"kissing Hitler\". As Roeg commented, \"Everything suddenly seemed connected... when the film began to take shape even the actors themselves seemed part of this endless linking.\" It all goes into the pot, to be boiled down and served up in new and fascinating ways.'\n",
            " b'one of the best ensemble acted films I\\'ve ever seen. There isn\\'t much to the plot, but the acting- incredible. You see the characters change ever so subtly, undr the influence of the rented villa in Italy, and love. And happiness. The film casts a mesmerizing spell on you, much as the villa does on all the women. Truly \"enchanted\".'\n",
            " b\"The folk who produced this masterful film have done fine service to a novel that stands as perhaps the best fiction work centering upon human guilt and human responsibility ever published. Nolte takes the role of Howard W. Campbell, Jr., and makes it his own, remaining true to Vonnegut's depiction of a man who has lost ALL (to and) for Love.<br /><br />No weaknesses in this fine adaptation.\"\n",
            " b'Released some months before the end of the war, \"Anchors Aweigh\" is one of Gene Kelly\\'s major musical triumphs of the forties\\xc2\\x85 <br /><br />Under the direction of George Sidney, it had the benefits of a pleasant score, and\\xc2\\x97best of all\\xc2\\x97the services of Gene Kelly in his first true starring role at MGM\\xc2\\x85 The year before, in Columbia\\'s \"Cover Girl,\" he had revealed an innovative approach to dance on the screen, a light but agreeable singing voice, and considerable charm In \"Anchors Aweigh,\" although he was billed under Frank Sinatra and Kathryn Grayson, he was laying the solid groundwork for his most revealing years at MGM\\xc2\\x85 <br /><br />The film\\'s story, a kind of dry run for \"On the Town\" four years later, follows sailors Kelly and Sinatra on shore leave, spend their holiday in Hollywood, where they become involved in the affairs of an aspiring singer (Grayson) and her little nephew (Dean Stockwell).<br /><br />Grayson, it appears, has her heart set on an audition with conductor-pianist Jose Iturbi\\xc2\\x85 She gets the audition, of course; Kelly gets Grayson after some misunderstandings; and Sinatra, has forgotten to be shy, and has lost his heart to a girl from Brooklyn (Pamela Britton).<br /><br />The plot is conventional for the period but, regrettably, it now seems barely tolerable\\xc2\\x85 But there is Gene Kelly, who dominates the movie with his agreeable personality\\xc2\\x85 Perhaps he grins too much, but when is permitted to dance, the film finally lifts off the ground\\xc2\\x85 <br /><br />\"I Begged Her,\" his early song and dance with Sinatra, is amusing and slightly absurd, in which he imagines himself as a bandit chieftain in a Spanish courtyard, courting maiden Grayson with a flamboyant flamenco dance and some athletic leaps\\xc2\\x85 He also does a charming Mexican dance with little Sharon McManus in the square of a Mexican settlement in Los Angeles\\xc2\\x85<br /><br />The highlight of the movie, however, is Kelly\\'s famous dance with the cartoon character Jerry the Mouse (of \"Tom and Jerry\" fame). Delightful and innovative, it skillfully combines live action and animation in its tale of a sad mouse king who refuses to allow music in his kingdom until Kelly, a sailor in the \"Pomeranian Navy,\" wearing a striped shirt and a beret, shows him how to dance\\xc2\\x85 \"Look at me, I\\'m dancin\\'!\" says the gleeful mouse king...'\n",
            " b\"A very attractive and capable cast is lost in this deadly boring rehash of the slasher sub-genre. The plot a simply a collection of cliches and set-pieces that we've all seen a hundred times before. Has great potential as an insomnia treatment.\"\n",
            " b\"A friend told me of John Fante last summer after we got into a conversation about Charles Bukowski. I did not know that Fante was a favorite writer of Bukowski's - an author with similar edge and humor except from one generation earlier. 'Ask the Dust' was the first Fante book I read, and it remains one of my favorite novels. The novel was a brilliant piece of writing about a sad, frightened young writer posing to himself and the outside world as an overconfident, masterfully talented author who had no idea how to write about the real world experiences he had none of. In the novel the protagonist is a virgin, with no idea how to win the graces of the women he desperately wants to write about in magazines. The story of his bizarre relationship with Camilla, how he settles for his first sexual experience with a 'wounded' admirer, and how he eventually is left with nothing but the story of his failed attempts at love is biting and real, with no touching Hollywood ending. The film adaptation stays true to the book for a while, but meanders into the cinematic trap of love persevering through racism, sickness and death. The heart of this story lies in the fact that Bandini is a jerk and Camilla is f-ing crazy, and their love never was and never would be the real thing, no matter how much either of them wanted to find it in each other. This movie tore out the real meaning of the story out and replaced it with schlock. I can't believe the man who wrote Chinatown could read this book and make a movie about it that got it so wrong.\"\n",
            " b\"I recently bought this movie with a bunch of other LaserDiscs from eBay. Usually, I am into war and action movies but occasionally I enjoy romantic comedies.<br /><br />If you are bored by today's special FX films and high gloss romantic comedies you should check out Shop Around the Corner on a quiet evening. What I like about the movie is that the characters have a lot of decency. There is nothing fake or pretentious about them. Take Mr. Matuschek for example: When he finds out that his wife is cheating on him with one of his own employees he tries to shot himself. Not just because of the humiliation but because he has been unjust to the character of Stewart. (OK, weired example.) <br /><br />Yes, the focus of the movie is narrow and the plot is predictable. Yet still, I liked it a lot. If you likes Notting Hill then you will like Shop around the corner. in fact, Hugh Grant reminds me a lot of Jimmy Stewart.\"\n",
            " b\"How did such a terrible script manage to attract this cast? Ridiculous, predictable and thoroughly unbelievable, this is well-acted and slickly directed, but the material is so bad it still qualifies as one of the all-time worst thrillers I've seen in years. Amazingly bad, and not in a fun way. Avoid at all costs, even if you're a fan of someone in the cast.\"\n",
            " b\"Being from Canada, I cannot say whether this film is original in the context of Danish cinema - unfortunately, we, here, do not get to see many Danish films in a year! I also cannot comment on Clausen's acting in the context of his other roles - I personally found him quite believable - a touching monstrosity of a man, this Jorgen! As for the actor who played Kenneth - why would his participation in a TV show rule him out as an actor - aren't we over such elitist attitudes? International viewers unaware of his Big Brother participation will find him a fair actor.<br /><br />In spite of the movie's faults (the writing could have been subtler in some instances), I do subscribe to what one could call the 'message' of the film - namely art's essential role in everyday life, art as healing force. Art, as Nietzsche said, sanctifies the lie ('Kunst heiligt die Luege') - it is a holy lie: the wedding scene is fabulous in this sense - a theatrical, not religious, wedding, celebrating love and life as play...\"\n",
            " b'Somehow they summed up the 60\\'s, ten years that radically changed our country, in four hours. And what a painful four hours it was. They trivilized the major events and happenings and they \"claimed\" it was about two families yet you barely saw the african-american family. If I were NBC I would be ashamed and embarrassed for airing such trash. What was amusing was this happy-go-lucky family you saw in the very beginning was tortured in so many ways, but managed to attend every major 60\\'s event through the country. And the second family was such a non-factor. They devoted maybe five or six scenes total to this family. That poor son... Please NBC, do not make any movies about any other eras....leave that to PBS and the History Channel'\n",
            " b\"And a made for TV movie too, this movie was good. the acting in it and the plot was just so great. this one of the only movies I've seen that I felt warped my mind because after seeing it I was afraid of Reaper coming to kill me through my computer screen. There were just a few minor things wrong with this movie, but it's very easily over looked.<br /><br />Antonio Sabbato Jr did an excellent role in this movie along with Janine Turner and Robert Wagner. this movie just has so much suspense and it made me wanting more because I never thought a low budget TV movie could be so powerful. After viewing this I read the novel this movie was based on (four times) and it too kicked was great. If you ever see this movie come on TV, I'd watch it. The effects in this movie were pretty well done, I honestly don't know what a live calcifying human would look like but with the way the FX team did this movie I was impressed and all it shows is that all these bad made for TV movies out there with low budgets shouldn't suck so bad.<br /><br />watch it. It's really good, no really, it is!\"\n",
            " b'CREEPSHOW 2 is the ill-fated sequel to the George Romero\\'s (overrated) original, CREEPSHOW. Any sequel following a Romero film that\\'s not directed by Romero himself has got some large shoes to fill, mostly because of the Romero fans out there who think he\\'s God. I didn\\'t care much for the first film and funny enough, I didn\\'t care much for the sequel. The film series had so much potential but it was short-lived because both films were less than stellar. <br /><br />The biggest problem with CREEPSHOW 2 was that it only had three stories (excluding the in-between story), and because the first story sucked beyond belief, it only left the chance for almost half of the movie to be *really* good. I saw CS 2 at the movies and the first segment was a real groaner. Anything dramatic with George \\'I can\\'t act\\' Kennedy is automatically doomed and the Indian Statue story was too hokey and simply didn\\'t belong in this sequel. So after a really trite and dull start, there were only two other stories left to reverse the fiasco of the aborted beginning and unfortunately the two other stories weren\\'t great enough for me to forget the first story. THE RAFT and THE HITCHHIKER are moderately successful, moderately because though the two other segments have their moments, they still sorta fall flat. The two last stories are basically stretched out for too long. It\\'s not that I wanted the stories to happen at a dizzying pace and end fast, but both good ideas found within those stories were sorta nullified by the fact that they were slow and padded and eventually fell flat when the segments needed to be more energized, more erratic and with punchier endings. Also, if the two last stories hadn\\'t been stretched out to pad the movie or had all three segments been more brief with better editing and direction, they could have added a much needed fourth story to the bunch. Having only three padded segments made for a boring feast.<br /><br />The acting and writing in both THE RAFT and THE HITCHHIKER segments are from awful to good. I like Lois Chiles in the last segment. It\\'s probably her best moment on screen aside from her role as Bond Girl Holly Goodhead in MOONRAKER and in DEATH ON THE NILE. But even her role is difficult to understand at times because of the serviceable direction and the unfocused story. Are we supposed to hate her or sympathize with her? Are we supposed to sympathize with the annoying hitchhiker? If the hitchhiker\\'s body was found by other people on the road, what was he when he attacked Chiles? Was he a ghost or a zombie or what? How did the body eventually left the presence of the other people who found him dead in order to attack Chiles? The whole thing is not very clear, even for a supernatural story. And the ending is rather dull and uneventful.<br /><br />As for the infamous THE RAFT story, well, the acting is mostly on the awful side and none of the characters are sympathetic or interesting. The characters would have been more interesting had the actors played themselves. None of the actors are convincing in their specific roles. Paul Satterfield looks smarter than the dumb jock he\\'s playing and the actress who plays his girlfriend is not very convincing as the typical bitchy slut. She seems too timid. The same could be said with the two others who play the \"plain\" teens. The idea of the killer oil slick is interesting and creepy but not well executed. There should have been a fifth character to the story, maybe a homeless man or a ranger who lurks around the lake and knows about the oil slick and could have been the watery monster\\'s alter ego of sorts. As creepy as the oil slick is, it doesn\\'t make for a compelling \"character\". And the way the story ends, everything seems pointless. No punch to it whatsoever.<br /><br />Except for the few titillating aspects which always seems to make boring things worthwhile, seeing CREEPSHOW 2 at a theater was basically a waste of money and time. CS 2 is more rental material than something you pay to see on the big screen.'\n",
            " b'You can call this one a flop, and that\\'s a very big one too! Quality isn\\'t associated with the words National Lampoon, but at least the Vacation and Animal House entries were fun, but this offering has got to be their most inane feature to date that I\\'ve watched. Ugh! The three piece story crazily attempts to parody the clich\\xc3\\xa9s and stereotypes that flooded Hollywood genre films, which turns out to be completely unfunny and boorish dross.<br /><br />\"Growing Yourself.\" - Jason a corporate lawyer decides to quit his job and split up with his wife so they both can grow and do what they always wanted to do. That\\'s life, as Jason sees it and he takes over looking after the children, but his decision to follow this path might not be the right one.<br /><br />Talk about leaden, boring and stiff. There only real interest is the small performance of the lovely Diane Lane. The satirical element here seems to be pointing out something than actually just delivering it. The silly humour is strained, flat and particularly senseless. Peter Riegert\\'s keeps it very deadpan in the lead role and Teresa Ganzel bubbles along in her role.<br /><br />\"Success Wanters\" - After just finishing collage Dominique Corsair gets a job as a stripper and is rape with some butter by the Dairy Company Presidents. For payback she becomes interested in the margarine industry and virtually works her way to the \\'very\" top.<br /><br />Probably the best one of the three, but the competition wasn\\'t too great. The gags seem to want go more subtle with its sexual and power orientated tone, but still they do feel more tacky and forced. The idea had something promising and inventive to build on, but the languid pacing begins to wear thin by the end and disastrous dialogue don\\'t do it any favours at all. The humour tries, but more often doesn\\'t come off, despite the hunger. The seductively Ann Dusenberry is pretty cold and manipulative throughout (well after the painful ordeal) and likes to gracefully bare it all quite a bit. Even the skimpy stripper outfit seems to get full workout for the opening half of the story. Popping up in amusing minor cameos ranged from Dick Millar, Mary Woronov, Olympia Dukakis, Fred Willard, Robert Culp and a favourite turn by Joe Spinell.<br /><br />\"Municipalians\" - A serial killer who leaves copies of his driver\\'s licence behind after each murder, is being tracked down by an enthusiastically naive rookie cop and his old grizzled partner. However the young cop learns that being tough is the only way to go, when the pair encounter one situation after another.<br /><br />Stupid! Oh yeah. Sure if you\\'re going to spoof something extremely over-the-top, make sure laughter will stream off it. Obviously they forgot that! Even at its 30 minutes running, boy does it drag! Robby Benson\\'s gratingly mock performance got rather overbearing with a wearied Richard Widmark doing very little as his partner. Christopher Lloyd underplays the role of serial killer, but his creepily wry and sympathetic performance works well and pretty much shows up the other leads. Elisha Cook Jr., Rhea Perlman and Harry Reems appear. When the jokes come, they truly feel out of sync and get rather stale with its repetitiveness of making fun of these cop clich\\xc3\\xa9s.<br /><br />In all, the idiotic material laced with its skits comes across as disposable, and the unbearable script is basically inept and witless. Only one or two few gags make it out each segment, but really there\\'s too many cheap stinkers or plain misses which stick in your head. This is because it virtually becomes what it\\'s trying to poke fun at and this basically shows in each story. It loses sight. The performances range from hot to cold, but who can\\'t deny the embarrassment that\\'s felt on most of their faces. Director Bob Giraldi\\'s first taste is a vapid one for \"Growing Yourself\" , but \"Success Wanters\" showed some minor flourishes of mild effectiveness. Henry Jaglom does a labouredly jaded job on \"Municipalians\" . Rick Meyerowitz\\'s vividly crass drawings that opens the film, are neatly devised and go on to set the style and mood.<br /><br />This low-brow comedy flunks it by overplaying it, with the main interested being derived by the familiar cameos. But really, is it worth going through this putridly lame and restless get-up, just to spot them. Well, that\\'s up to you.'\n",
            " b\"The film is poorly casted, except for some familiar old Hollywood names. Other performances by unknown names (i.e., Jennifer Gabrielle) are uninspiring. I have seen other films by this director, unfortunately this is one of his worst. Perhaps this is a reflection of the screenplay? <br /><br />In a positive note, Kim Bassinger's and Pat Morita's performance saved the movie from oblivion. I enjoyed Pat more in Karate Kid, though. There are many good movies to see, and in short, this one is not one of them. Save your money and the celluloid. <br /><br />Jason Vanness\"\n",
            " b'I happened to catch this film at a screening in Brooklyn - it\\'s difficult to describe the plot; it has a lot of wacky characters, but let\\'s just say I\\'d have a hard time choosing which one made me laugh the hardest, I wouldn\\'t know where to begin. Even the peripheral roles are well written and well acted.<br /><br />There are numerous small touches that make it unique and very enjoyable, it has a few \"devices\" that pop up and add another hilarious layer. It is refreshing to watch; not some recycled stuff I\\'d seen many times before. If this film could reach a wider audience, I\\'m certain it would be a real crowd-pleaser, the story is so original and heartfelt.<br /><br />There\\'s a lot here to like, funny back-stories, mishaps and misunderstandings which set up the final act and dramatic conclusion. Cross Eyed is a very funny movie with a ton of heart; it\\'s a touching story with fast paced comedy woven throughout. Definitely worth seeing!'\n",
            " b'This whimsical film had the misfortune of being released at the same time of the highly popular \"Amelie\", both having the wonderful Audrey Tautou playing the central role. Laurent Firode, the talented director made one of the most enjoyable films that have come out of France in recent memory.<br /><br />The film deals with chance, as its English title indicates. The French title makes reference at how butterflies wings can create chaos over the Atlantic as they fly, as well as hurricanes in the Pacific, something not to be believed just by looking at these colorful insects. From the start, the director interlaces all the characters one sees in the film and how each has a connection to the other, something that is hard to imagine, but in the film\\'s context seems to work well.<br /><br />A chance meeting at the metro sets the tone for the film. Irene, who is going to work, is asked by the woman sitting opposite her to tell her what her Zodiac sign is and proceeds to read from her paper. Irene, it seems will cross paths and will find her soul mate that same day. After Irene leaves the train, the quiet young man seated next to the woman tells her he has the same birth date as Irene. It seems they are destined to one another from the start, but alas, they will not reconnect until the last frame of the film.<br /><br />Audrey Tautou is wonderful as Irene. Faudel, who plays Younes, doesn\\'t have a lot to do until the end, but he shows he has a presence and plays well his part. The talented young cast makes a valuable contribution to the success of the film, which is as light as butterfly wings.<br /><br />We look forward to future films by Laurent Firode because he appears to be a director with the heart in the right place and an ear to the way humans are connected.'\n",
            " b\"I was so excited to see this film because I had always heard it was very scary.<br /><br />What's interesting about it is that it is a Japanese film they decided to bring to America, but they actually filmed it IN japan with the original crew! I think this made the film... more Japanese (which is probably why it managed to be fairly successful unlike most Japan-to-America horror movie flops) but it also made it a bit inaccessible to American audiences. The difference in what scares the Japanese culture and what scares the American culture felt present throughout the film. This worked well in moments when they meant to capture the nervous fear of the main character: a frightened fish in a big, busy, unfamiliar, Tokyo pond.<br /><br />The storyline was quite confusing as well. In typical Japanese fashion it is extremely complicated and confusing. The beginning of the movie is actually the middle of the story and from there we move constantly forwards and backwards until, at the end of the film, we see the ending and beginning of the whole story. This constant flipping through time was very much confusing for me. Also, I didn't think some things were explained so well and I had to ask my friend to explain them to me (she had already seen it, as well as the sequel which apparently reveals more of the story).<br /><br />Overall, there IS plenty for American audiences to love, tons of freaky imagery and macabre details which a healthy splash of jump scenes.\"\n",
            " b\"The War Between the States was perhaps the darkest hour in the history of America; a war that pitted brother against brother and family against family and left scars that even today have not yet healed, and in all probability never will. And, as in any story about any war, beyond any historical significance it is the personal discord behind the greater conflict that creates the emotional impetus that makes it involving. It is the human element that renders the context necessary to give it perspective, which is what director Ang Lee provides in `Ride With the Devil,' a Civil War drama in which he focuses on the personal travails within the broader depiction of the War itself, and along the way manages to include an examination of one of the bloodiest chapters of the War, the infamous raid on Lawrence, Kansas, by Quantrill and his raiders, which he succeeds in presenting quite objectively from the Confederate point-of-view.<br /><br />In 1863, the Union influence predominates in the State of Kansas, and even across the border in neighboring Missouri, those with Confederate loyalties are finding it increasingly difficult to hold out against the encroaching Northerners, especially without the aid of what could be considered any `regular' Confederate troops. And when things begin to really heat up around their own town, Jack Bull Chiles (Skeet Ulrich) and Jake Roedel (Tobey Maguire) form a band of their own and join in the fray, doing damage to the Union cause wherever it is practicable. Jack Bull and Jake do not like the War and do not like killing; but they are standing up for what they believe to be right. <br /><br />There are others, however, even among their own, men like the young Pitt Mackeson (Jonathan Rhys-Meyers), who will use the conflict as a vehicle for personal gain and as nothing more than an excuse to express their own violent nature through unnecessary brutality, perpetrated in many instances against innocent victims. And so, for Jack Bull and Jake, as well as many just like them, it becomes a time in which loyalty and moral judgments will be sorely tested; a time during which their souls will be tempered in blood. And they will have to ride with the very Devil himself, against seemingly insurmountable odds.<br /><br />As with all of his films, director Ang Lee approaches his story through an incisive, yet subtle examination of the traditions, cultural aspects and moral attitudes of the people and times he is depicting. And in so doing, Lee provides his audience with at least some understanding of his subject that goes beyond the actual story and ultimately offers, perhaps, a deeper grasp of the motivations that propel his characters and the drama in which they are engaged. Whether it's the traditions and customs that account for the relationship between a father and his daughters (`Eat Drink Man Woman'), the effects of class distinction (`Sense and Sensibility'), the honor and code by which a warrior lives and dies (`Crouching Tiger, Hidden Dragon') or the moral ambiguities fostered by a lack of all of the above (`The Ice Storm'), Lee infuses his films with insights into the human condition that take them to a higher level. This film is no exception; and (as he does with all his films), Lee presents his story with the aid of breathtaking cinematography (in this film, by Frederick Elmes, who also did `The Ice Storm' brilliantly), which under his guidance is nothing less than visual poetry. It's that special Lee touch, and it adds a wistful, reflective sense to whatever story he is telling, which is one of the elements that make his films so memorable.<br /><br />As Jake, Tobey Maguire initially brings a sense of youthful innocence to the film that contrasts so effectively with the maturity he conveys later on as the story develops, and his character along with it. Most importantly, Maguire convincingly and believably responds to the events that unfold around him, which adds to the credibility of the overall film and underscores the realism of the presentation: His stoic acceptance of death and the news of those `murdered' in the various skirmishes and battles; the moral propriety to which those he encounters adhere, even in such troubled times; the betrayal, which because of the nature of the conflict is almost commonplace; and the loyalty and beliefs to which he and his companions cling adamantly. It is all of this that Maguire achieves through his performance, and it is no small accomplishment. It is, however, the kind of studied, understated performance that is often taken for granted, which is unfortunate; work like this is worthy of acclaim, and should be recognized.<br /><br />Skeet Ulrich is effective, as well, as Jack Bull, and Jewel (in her motion picture debut) turns in an engaging performance as Sue Lee Shelley. It is Jeffrey Wright, however, who stands out in a notable supporting role as Daniel Holt, as well as Jonathan Rhys-Meyers, who brings a chilling Christopher Walken-like menace to his role of Pitt. Also, in what amounts to a cameo role (one scene), Mark Ruffalo leaves an indelible impression with very little screen time.<br /><br />The supporting cast includes James Caviezel (Black John), Simon Baker (George Clyde), Tom Guiry (Riley), Tom Wilkinson (Orton Brown), John Ales (Quantrill), John Judd (Otto Roedel) and Kathleen Warfel (Mrs. Chiles). The Civil War will forever be an open wound upon the nation; but hopefully, as time goes on, it will be through the objective contemplations of filmmakers like Ang Lee and films like `Ride With the Devil' that will ultimately help to close the schism and promote healing. In light of more recent events, it is something that is sorely needed, worldwide. Film is a powerful medium; it can be educational as well as entertaining, and perhaps in the future more filmmakers, like Ang Lee, will embrace and promote a sense of unity through the sensitive depiction of the events and attitudes that make us what we are. 8/10. <br /><br /> <br /><br /> <br /><br />\"\n",
            " b\"I'll be blunt and to the point. This film is not good at all. The film buff part of me hated the acting, script, story, direction and almost all of the editing. Amanda Peet has proven that she can act, as she was a high point of 'The Whole Nine Yards'. So she should have avoided this movie with a ten foot pole. However, the infantile part of me found this film to be very funny. If you can forget about how underpar the production quality is, and if you find smut jokes funny, then you should be all right. And for those of you who can't get off your pedestal, thats your choice. My inner child hasen't died, and I laughed a fair bit. Even then, only a 3 out of ten, because as a movie, it really does stink.\"]\n"
          ]
        }
      ]
    },
    {
      "cell_type": "code",
      "source": [
        "# Vectorize the data.\n",
        "def vectorize_text(text, label):\n",
        "    text = tf.expand_dims(text, -1)\n",
        "    return vectorize_layer(text), label\n",
        "\n",
        "\n",
        "train_ds = raw_train_ds.map(vectorize_text)\n",
        "val_ds = raw_val_ds.map(vectorize_text)\n",
        "test_ds = raw_test_ds.map(vectorize_text)\n",
        "\n",
        "# Do async prefetching / buffering of the data for best performance on GPU.\n",
        "train_ds = train_ds.cache().prefetch(buffer_size=10)\n",
        "val_ds = val_ds.cache().prefetch(buffer_size=10)\n",
        "test_ds = test_ds.cache().prefetch(buffer_size=10)"
      ],
      "metadata": {
        "id": "UJrAZXRUZa2a"
      },
      "execution_count": 16,
      "outputs": []
    },
    {
      "cell_type": "code",
      "source": [
        "# Build a model\n",
        "\n",
        "from tensorflow.keras import layers\n",
        "\n",
        "inputs = layers.Input(shape=(None,), dtype=\"int64\")\n",
        "\n",
        "# Embedding\n",
        "x = layers.Embedding(max_features, embedding_dim)(inputs)\n",
        "x = layers.Dropout(0.5)(x)\n",
        "\n",
        "x = layers.Conv1D(128, 7, padding=\"valid\", activation=\"relu\", strides=3)(x)\n",
        "x = layers.Conv1D(128, 7, padding=\"valid\", activation=\"relu\", strides=3)(x)\n",
        "x = layers.GlobalMaxPooling1D()(x)\n",
        "\n",
        "x = layers.Dense(128, activation=\"relu\")(x)\n",
        "x = layers.Dropout(0.5)(x)\n",
        "\n",
        "predictions = layers.Dense(1, activation=\"sigmoid\", name=\"predictions\")(x)\n",
        "\n",
        "model = tf.keras.Model(inputs, predictions)\n",
        "\n",
        "model.summary()\n",
        "\n",
        "model.compile(loss=\"binary_crossentropy\", optimizer=\"adam\", metrics=[\"accuracy\"])"
      ],
      "metadata": {
        "colab": {
          "base_uri": "https://localhost:8080/"
        },
        "id": "djjoeIY7Za4y",
        "outputId": "bb5c5272-a80f-495c-bf5e-bfe7665a0cc1"
      },
      "execution_count": 17,
      "outputs": [
        {
          "output_type": "stream",
          "name": "stdout",
          "text": [
            "Model: \"model\"\n",
            "_________________________________________________________________\n",
            " Layer (type)                Output Shape              Param #   \n",
            "=================================================================\n",
            " input_1 (InputLayer)        [(None, None)]            0         \n",
            "                                                                 \n",
            " embedding (Embedding)       (None, None, 128)         2560000   \n",
            "                                                                 \n",
            " dropout (Dropout)           (None, None, 128)         0         \n",
            "                                                                 \n",
            " conv1d (Conv1D)             (None, None, 128)         114816    \n",
            "                                                                 \n",
            " conv1d_1 (Conv1D)           (None, None, 128)         114816    \n",
            "                                                                 \n",
            " global_max_pooling1d (Globa  (None, 128)              0         \n",
            " lMaxPooling1D)                                                  \n",
            "                                                                 \n",
            " dense (Dense)               (None, 128)               16512     \n",
            "                                                                 \n",
            " dropout_1 (Dropout)         (None, 128)               0         \n",
            "                                                                 \n",
            " predictions (Dense)         (None, 1)                 129       \n",
            "                                                                 \n",
            "=================================================================\n",
            "Total params: 2,806,273\n",
            "Trainable params: 2,806,273\n",
            "Non-trainable params: 0\n",
            "_________________________________________________________________\n"
          ]
        }
      ]
    },
    {
      "cell_type": "code",
      "source": [
        "epochs = 3\n",
        "\n",
        "model.fit(\n",
        "    train_ds,\n",
        "    validation_data=val_ds,\n",
        "    epochs=epochs\n",
        ")"
      ],
      "metadata": {
        "colab": {
          "base_uri": "https://localhost:8080/"
        },
        "id": "d6DXUGCbZa7Z",
        "outputId": "e72ce4f3-a2ae-41a8-8e90-bd245b5a31aa"
      },
      "execution_count": 18,
      "outputs": [
        {
          "output_type": "stream",
          "name": "stdout",
          "text": [
            "Epoch 1/3\n",
            "625/625 [==============================] - 21s 20ms/step - loss: 0.5310 - accuracy: 0.6868 - val_loss: 0.3351 - val_accuracy: 0.8542\n",
            "Epoch 2/3\n",
            "625/625 [==============================] - 10s 16ms/step - loss: 0.2338 - accuracy: 0.9064 - val_loss: 0.3074 - val_accuracy: 0.8830\n",
            "Epoch 3/3\n",
            "625/625 [==============================] - 10s 16ms/step - loss: 0.1174 - accuracy: 0.9593 - val_loss: 0.3999 - val_accuracy: 0.8674\n"
          ]
        },
        {
          "output_type": "execute_result",
          "data": {
            "text/plain": [
              "<keras.callbacks.History at 0x7f64e740dfd0>"
            ]
          },
          "metadata": {},
          "execution_count": 18
        }
      ]
    },
    {
      "cell_type": "code",
      "source": [
        "model.evaluate(test_ds)"
      ],
      "metadata": {
        "colab": {
          "base_uri": "https://localhost:8080/"
        },
        "id": "2IZf9IdmZa9x",
        "outputId": "505cbdcf-b3b5-49f1-d136-dc8eedb3545a"
      },
      "execution_count": 19,
      "outputs": [
        {
          "output_type": "stream",
          "name": "stdout",
          "text": [
            "782/782 [==============================] - 9s 12ms/step - loss: 0.4473 - accuracy: 0.8464\n"
          ]
        },
        {
          "output_type": "execute_result",
          "data": {
            "text/plain": [
              "[0.44731128215789795, 0.8464000225067139]"
            ]
          },
          "metadata": {},
          "execution_count": 19
        }
      ]
    },
    {
      "cell_type": "code",
      "source": [
        "inputs = tf.keras.Input(shape=(1,), dtype=\"string\")\n",
        "indices = vectorize_layer(inputs)\n",
        "outputs = model(indices)\n",
        "\n",
        "\n",
        "end_to_end_model = tf.keras.Model(inputs, outputs)\n",
        "end_to_end_model.compile(\n",
        "    loss=\"binary_crossentropy\", optimizer=\"adam\", metrics=[\"accuracy\"]\n",
        ")\n",
        "\n",
        "# Test it with `raw_test_ds`, which yields raw strings\n",
        "end_to_end_model.evaluate(raw_test_ds)"
      ],
      "metadata": {
        "colab": {
          "base_uri": "https://localhost:8080/"
        },
        "id": "As031FJcZbJy",
        "outputId": "542f9cba-4d4b-441b-c51c-c1ac6af5a994"
      },
      "execution_count": 20,
      "outputs": [
        {
          "output_type": "stream",
          "name": "stdout",
          "text": [
            "782/782 [==============================] - 10s 12ms/step - loss: 0.4473 - accuracy: 0.8464\n"
          ]
        },
        {
          "output_type": "execute_result",
          "data": {
            "text/plain": [
              "[0.4473113715648651, 0.8464000225067139]"
            ]
          },
          "metadata": {},
          "execution_count": 20
        }
      ]
    }
  ]
}